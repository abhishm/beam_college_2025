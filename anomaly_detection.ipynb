{
 "cells": [
  {
   "cell_type": "code",
   "execution_count": 38,
   "id": "f2021659-2daa-44ae-bf41-61b965f1042c",
   "metadata": {
    "tags": []
   },
   "outputs": [],
   "source": [
    "# import timesfm\n",
    "import numpy as np\n",
    "import matplotlib.pyplot as plt\n",
    "import pandas as pd\n",
    "import pyod.models.iforest as iforest\n",
    "import pickle\n",
    "from google import genai\n",
    "from IPython.display import Markdown, display\n",
    "from apache_beam.ml.inference.base import ModelHandler\n",
    "from faker import Faker\n",
    "import json\n",
    "import os"
   ]
  },
  {
   "cell_type": "code",
   "execution_count": 2,
   "id": "bd58756d-0736-4b3c-9ec7-4e035af48e24",
   "metadata": {
    "tags": []
   },
   "outputs": [
    {
     "data": {
      "text/plain": [
       "True"
      ]
     },
     "execution_count": 2,
     "metadata": {},
     "output_type": "execute_result"
    }
   ],
   "source": [
    "from dotenv import load_dotenv\n",
    "load_dotenv()"
   ]
  },
  {
   "cell_type": "code",
   "execution_count": 3,
   "id": "3451e0d2-b90a-4da9-adfb-89b8248faac6",
   "metadata": {
    "tags": []
   },
   "outputs": [],
   "source": [
    "# Initialize Faker\n",
    "fake = Faker()"
   ]
  },
  {
   "cell_type": "markdown",
   "id": "25264ceb-a522-4108-ae2c-cee5e20619a3",
   "metadata": {},
   "source": [
    "# Simulated Data\n",
    "\n",
    "Here we define the patter for simulating normal and anomalous behavior of a cloud activity of a particular user.\n",
    "\n",
    "* **Data Composition:** The dataset consists of simulated user activity logs, where each entry includes:\n",
    "    * `access_type`: The defined access level of the user account (e.g., `no_access`, `reader`, `editor`) or its anomalous counterpart (e.g., `anomaly_no_access`).\n",
    "    * `num_read`: The count of read operations performed.\n",
    "    * `num_edits`: The count of edit operations performed.\n",
    "    * `num_downloads`: The count of download operations performed.\n",
    "    * `num_encryption`: The count of encryption operations performed.\n",
    "\n",
    "* **Defining Normal Behavior:** Normal activity patterns are specific to each `access_type`:\n",
    "    * **For `no_access` accounts:**\n",
    "        * All activity metrics (`num_read`, `num_edits`, `num_downloads`, `num_encryption`) are consistently zero, as these accounts should have no system interaction.\n",
    "    * **For `reader` accounts:**\n",
    "        * `num_read`: Typically moderate (e.g., around 100).\n",
    "        * `num_edits`: Consistently zero (readers do not edit).\n",
    "        * `num_downloads`: Typically low (e.g., around 10).\n",
    "        * `num_encryption`: Consistently zero (readers do not encrypt).\n",
    "    * **For `editor` accounts:**\n",
    "        * `num_read`: Typically low (e.g., around 10).\n",
    "        * `num_edits`: Typically high (e.g., around 200), reflecting their primary function.\n",
    "        * `num_downloads`: Typically low (e.g., around 5).\n",
    "        * `num_encryption`: Typically low (e.g., around 10).\n",
    "\n",
    "\n",
    "* **Defining Anomalous Behavior:** Anomalous data represents significant deviations from these established normal patterns, often indicated by an `access_type` prefixed with \"anomaly\\_\":\n",
    "    * **For `anomaly_no_access` accounts (originally `no_access`):**\n",
    "        * Any recorded activity (e.g., even small numbers of `num_read` around 5 or `num_edits` around 3) is anomalous, as no activity is expected.\n",
    "    * **For `anomaly_reader` accounts (originally `reader`):**\n",
    "        * `num_read`: Unusually high (e.g., around 350).\n",
    "        * `num_edits`: Any positive value is anomalous (e.g., around 20), as readers should not edit.\n",
    "        * `num_downloads`: Unusually high (e.g., around 75).\n",
    "        * `num_encryption`: Any positive value is anomalous (e.g., around 10), as readers should not encrypt.\n",
    "    * **For `anomaly_editor` accounts (originally `editor`):**\n",
    "        * `num_read`: Unusually high for an editor (e.g., around 150).\n",
    "        * `num_edits`: Unusually low compared to normal editor activity (e.g., around 25).\n",
    "        * `num_downloads`: Unusually high (e.g., around 50).\n",
    "        * `num_encryption`: Unusually high (e.g., around 70)."
   ]
  },
  {
   "cell_type": "markdown",
   "id": "87dcb591-1c40-4c16-9eef-9b76c5fa558c",
   "metadata": {},
   "source": [
    "## Code for generating normal and anomalous data point"
   ]
  },
  {
   "cell_type": "code",
   "execution_count": 4,
   "id": "26b18cb0-93ba-4f64-b4e1-ea1c16573bc6",
   "metadata": {
    "scrolled": true,
    "tags": []
   },
   "outputs": [],
   "source": [
    "import random\n",
    "\n",
    "def generate_simulation_data(access_type: str) -> dict:\n",
    "    \"\"\"\n",
    "    Generates simulated data based on the access type.\n",
    "\n",
    "    The function simulates user activity metrics (reads, edits, downloads, encryptions)\n",
    "    based on predefined access levels: \"no_access\", \"reader\", or \"editor\".\n",
    "    Each metric is generated from a normal distribution with specified means and\n",
    "    standard deviations, ensuring results are non-negative integers.\n",
    "\n",
    "    Args:\n",
    "        access_type: A string indicating the type of access.\n",
    "                     Expected values: \"no_access\", \"reader\", \"editor\".\n",
    "\n",
    "    Returns:\n",
    "        A dictionary containing the simulated data:\n",
    "        {\n",
    "            \"access_type\": str,    # The input access type\n",
    "            \"num_read\": int,       # Simulated number of reads\n",
    "            \"num_edits\": int,      # Simulated number of edits\n",
    "            \"num_downloads\": int,  # Simulated number of downloads\n",
    "            \"num_encryption\": int  # Simulated number of encryptions\n",
    "        }\n",
    "\n",
    "    Raises:\n",
    "        ValueError: If an unknown access_type is provided.\n",
    "    \"\"\"\n",
    "    # Initialize all metrics to 0\n",
    "    num_read = 0\n",
    "    num_edits = 0\n",
    "    num_downloads = 0\n",
    "    num_encryption = 0\n",
    "\n",
    "    # Rule 1: No access\n",
    "    if access_type == \"no_access\":\n",
    "        # All metrics remain 0, so no action needed here.\n",
    "        pass\n",
    "    # Rule 2: Reader access\n",
    "    elif access_type == \"reader\":\n",
    "        # num_read is N(100, 50)\n",
    "        num_read = max(0, round(random.normalvariate(100, 50)))\n",
    "        # num_downloads is N(10, 5)\n",
    "        num_downloads = max(0, round(random.normalvariate(10, 5)))\n",
    "        # num_edits and num_encryption remain 0 for \"reader\"\n",
    "    # Rule 3: Editor access\n",
    "    elif access_type == \"editor\":\n",
    "        # num_read is N(10, 10)\n",
    "        num_read = max(0, round(random.normalvariate(10, 10)))\n",
    "        # num_edits is N(200, 100)\n",
    "        num_edits = max(0, round(random.normalvariate(200, 100)))\n",
    "        # num_downloads is N(5, 2)\n",
    "        num_downloads = max(0, round(random.normalvariate(5, 2)))\n",
    "        # num_encryption is N(10, 10)\n",
    "        num_encryption = max(0, round(random.normalvariate(10, 10)))\n",
    "    # Handle unknown access types\n",
    "    else:\n",
    "        raise ValueError(\n",
    "            f\"Unknown access_type: '{access_type}'. \"\n",
    "            \"Expected 'no_access', 'reader', or 'editor'.\"\n",
    "        )\n",
    "\n",
    "    # Return the generated data as a dictionary\n",
    "    return {\n",
    "        \"user_name\": fake.user_name(),\n",
    "        \"access_type\": access_type,\n",
    "        \"num_read\": num_read,\n",
    "        \"num_edits\": num_edits,\n",
    "        \"num_downloads\": num_downloads,\n",
    "        \"num_encryption\": num_encryption\n",
    "    }\n",
    "\n",
    "def generate_anomaly_data(access_type: str) -> dict:\n",
    "    \"\"\"\n",
    "    Generates anomalous simulated data based on the access type.\n",
    "\n",
    "    This function creates data points that deviate from the normal patterns\n",
    "    defined in `generate_simulation_data`, using different fixed distributions.\n",
    "\n",
    "    Args:\n",
    "        access_type: A string indicating the type of access for which to generate an anomaly.\n",
    "                     Expected values: \"no_access\", \"reader\", \"editor\".\n",
    "\n",
    "    Returns:\n",
    "        A dictionary containing the anomalous simulated data.\n",
    "        Structure is the same as `generate_simulation_data`.\n",
    "\n",
    "    Raises:\n",
    "        ValueError: If an unknown access_type is provided.\n",
    "    \"\"\"\n",
    "    num_read = 0\n",
    "    num_edits = 0\n",
    "    num_downloads = 0\n",
    "    num_encryption = 0\n",
    "\n",
    "    if access_type == \"no_access\":\n",
    "        # Anomaly: Some unexpected activity\n",
    "        num_read = max(0, round(random.normalvariate(5, 2)))  # Small number of reads\n",
    "        num_edits = max(0, round(random.normalvariate(3, 1))) # Small number of edits\n",
    "        # num_downloads and num_encryption remain 0 or very low\n",
    "        num_downloads = 0\n",
    "        num_encryption = 0\n",
    "    elif access_type == \"reader\":\n",
    "        # Anomaly: Unusually high activity or unexpected actions\n",
    "        num_read = max(0, round(random.normalvariate(350, 50))) # Very high reads\n",
    "        num_edits = max(0, round(random.normalvariate(20, 5)))   # Edits, normally 0\n",
    "        num_downloads = max(0, round(random.normalvariate(75, 15)))# Very high downloads\n",
    "        num_encryption = max(0, round(random.normalvariate(10, 3)))# Encryptions, normally 0\n",
    "    elif access_type == \"editor\":\n",
    "        # Anomaly: Unusual pattern of activity for an editor\n",
    "        num_read = max(0, round(random.normalvariate(150, 30))) # High reads (normally low for editor)\n",
    "        num_edits = max(0, round(random.normalvariate(25, 10)))  # Low edits (normally high)\n",
    "        num_downloads = max(0, round(random.normalvariate(50, 10)))# High downloads\n",
    "        num_encryption = max(0, round(random.normalvariate(70, 20)))# Very high encryptions\n",
    "    else:\n",
    "        raise ValueError(\n",
    "            f\"Unknown access_type for anomaly: '{access_type}'. \"\n",
    "            \"Expected 'no_access', 'reader', or 'editor'.\"\n",
    "        )\n",
    "\n",
    "    return {\n",
    "        \"user_name\": fake.user_name(),\n",
    "        \"access_type\": access_type, # Mark as anomaly\n",
    "        \"num_read\": num_read,\n",
    "        \"num_edits\": num_edits,\n",
    "        \"num_downloads\": num_downloads,\n",
    "        \"num_encryption\": num_encryption\n",
    "    }\n",
    "\n",
    "\n",
    "# Main block for example usage (this will run when the script is executed directly)\n",
    "dataset = []\n",
    "# Define the number of samples for each access type\n",
    "access_types_to_simulate_for_normal = ([\"no_access\"] * 200 +\n",
    "                            [\"reader\"] * 200 +\n",
    "                            [\"editor\"] * 200)\n",
    "# Define the number of samples for each access type\n",
    "access_types_to_simulate_for_anomaly = ([\"no_access\"] * 20 +\n",
    "                            [\"reader\"] * 20 +\n",
    "                            [\"editor\"] * 20)\n",
    "\n",
    "access_types_to_simulate = access_types_to_simulate_for_normal + access_types_to_simulate_for_anomaly\n",
    "\n",
    "random.shuffle(access_types_to_simulate) # Shuffle to mix the types\n",
    "\n",
    "for acc_type in access_types_to_simulate:\n",
    "    dataset.append(generate_simulation_data(acc_type))"
   ]
  },
  {
   "cell_type": "markdown",
   "id": "d8c94879-3378-49e0-910f-88c9a3e8e56b",
   "metadata": {},
   "source": [
    "## Train an isolation forest model"
   ]
  },
  {
   "cell_type": "code",
   "execution_count": 5,
   "id": "9e1fb428-10e9-457a-b35a-2c438dacc624",
   "metadata": {
    "tags": []
   },
   "outputs": [],
   "source": [
    "df_train = pd.DataFrame(dataset)"
   ]
  },
  {
   "cell_type": "code",
   "execution_count": 6,
   "id": "3925ead3-5663-4754-985c-2e283a521c76",
   "metadata": {
    "tags": []
   },
   "outputs": [],
   "source": [
    "model_iforest = iforest.IForest(random_state=1234, contamination=0.1)"
   ]
  },
  {
   "cell_type": "code",
   "execution_count": 7,
   "id": "612d9997-3969-4bb5-9a84-f27c3b22f886",
   "metadata": {
    "tags": []
   },
   "outputs": [],
   "source": [
    "df_train_with_dummies = pd.get_dummies(df_train.drop(\"user_name\", axis=1))"
   ]
  },
  {
   "cell_type": "code",
   "execution_count": 8,
   "id": "61212124-143b-478d-96f7-e3a12c3cd785",
   "metadata": {
    "tags": []
   },
   "outputs": [
    {
     "data": {
      "text/plain": [
       "IForest(behaviour='old', bootstrap=False, contamination=0.1, max_features=1.0,\n",
       "    max_samples='auto', n_estimators=100, n_jobs=1, random_state=1234,\n",
       "    verbose=0)"
      ]
     },
     "execution_count": 8,
     "metadata": {},
     "output_type": "execute_result"
    }
   ],
   "source": [
    "model_iforest.fit(df_train_with_dummies)"
   ]
  },
  {
   "cell_type": "markdown",
   "id": "d8429c77-b601-42c8-9b50-8e6eebfc6487",
   "metadata": {},
   "source": [
    "## Saving the Model"
   ]
  },
  {
   "cell_type": "code",
   "execution_count": 9,
   "id": "e4c681ff-33a6-4c83-bd0f-ed619d7a584f",
   "metadata": {
    "tags": []
   },
   "outputs": [],
   "source": [
    "model_save_path = './iforest.pkl'\n",
    "with open(model_save_path, 'wb') as fp:\n",
    "  pickle.dump(model_iforest, fp)"
   ]
  },
  {
   "cell_type": "markdown",
   "id": "c161b51d-745b-42f5-a945-1b386ee16fa5",
   "metadata": {
    "tags": []
   },
   "source": [
    "## Test"
   ]
  },
  {
   "cell_type": "code",
   "execution_count": 10,
   "id": "88f9d77e-1471-4559-83eb-2cfd7b984cdf",
   "metadata": {
    "tags": []
   },
   "outputs": [],
   "source": [
    "# Main block for example usage (this will run when the script is executed directly)\n",
    "anomaly_dataset = []\n",
    "# Define the number of samples for each access type\n",
    "access_types_to_simulate = (\n",
    "    [\"no_access\"] * 2 \n",
    "                            +\n",
    "                            [\"reader\"] * 200 +\n",
    "                            [\"editor\"] * 200\n",
    "                           )\n",
    "# random.shuffle(access_types_to_simulate) # Shuffle to mix the types\n",
    "\n",
    "for acc_type in access_types_to_simulate:\n",
    "    anomaly_dataset.append(generate_anomaly_data(acc_type))"
   ]
  },
  {
   "cell_type": "code",
   "execution_count": 11,
   "id": "34e54b90-4fb1-4117-a47f-d98a3db73608",
   "metadata": {
    "tags": []
   },
   "outputs": [],
   "source": [
    "df_anomaly = pd.DataFrame(anomaly_dataset)"
   ]
  },
  {
   "cell_type": "code",
   "execution_count": 12,
   "id": "41351758-9e49-4369-b745-ae06911f61d9",
   "metadata": {
    "tags": []
   },
   "outputs": [],
   "source": [
    "df_anomaly_test_without_user_name = pd.get_dummies(df_anomaly.drop(\"user_name\", axis=1))"
   ]
  },
  {
   "cell_type": "code",
   "execution_count": 14,
   "id": "d18986f4-35a7-4b32-977d-cd204516a38c",
   "metadata": {
    "tags": []
   },
   "outputs": [
    {
     "name": "stderr",
     "output_type": "stream",
     "text": [
      "/Users/abhishekmishra/beam-college/.venv/lib/python3.11/site-packages/sklearn/utils/validation.py:2732: UserWarning: X has feature names, but IsolationForest was fitted without feature names\n",
      "  warnings.warn(\n"
     ]
    },
    {
     "data": {
      "text/plain": [
       "np.float64(0.9950248756218906)"
      ]
     },
     "execution_count": 14,
     "metadata": {},
     "output_type": "execute_result"
    }
   ],
   "source": [
    "model_iforest.predict(df_anomaly_test_without_user_name).mean()"
   ]
  },
  {
   "cell_type": "markdown",
   "id": "ea2c1482-c1cb-4751-b804-3b339dd5191e",
   "metadata": {},
   "source": [
    "Model was able to detection 99.5 anomalies."
   ]
  },
  {
   "cell_type": "code",
   "execution_count": 15,
   "id": "75345fb8-36a7-4906-a0fe-d31afcee18b9",
   "metadata": {
    "tags": []
   },
   "outputs": [],
   "source": [
    "df_anomaly_test_with_username = df_anomaly_test_without_user_name.copy()\n",
    "df_anomaly_test_with_username[\"user_name\"] = df_anomaly.user_name"
   ]
  },
  {
   "cell_type": "markdown",
   "id": "2d06cf1a-565f-4b5e-8341-38378a381a28",
   "metadata": {},
   "source": [
    "## Making anomaly actionable by asking Gemini to find the attack associated with the anomaly"
   ]
  },
  {
   "cell_type": "markdown",
   "id": "b74c0c60-0a08-4ed9-ad36-ccd8f7745487",
   "metadata": {},
   "source": [
    "## System Prompt for Alert Detection"
   ]
  },
  {
   "cell_type": "code",
   "execution_count": 16,
   "id": "16a9a439-2baa-4487-bc2d-3ac78c21ea06",
   "metadata": {
    "tags": []
   },
   "outputs": [],
   "source": [
    "system_prompt = \"\"\"\n",
    "You are an AI Security Analyst. Your primary function is to analyze logs of user activity that have already been flagged as anomalous and categorize them into specific cybersecurity threat types. You must use the provided context about normal behavior to make your determination.\n",
    "\n",
    "**Your Task:**\n",
    "\n",
    "Given a JSON object representing a single anomalous activity record, you must classify this activity into ONE of the following four categories:\n",
    "\n",
    "1.  Privilege Escalation  \n",
    "2.  Data Exfiltration  \n",
    "3.  Ransomware Attack  \n",
    "4.  Unauthorized Access\n",
    "\n",
    "**Input Data Structure:**\n",
    "\n",
    "You will receive a JSON object with the following fields:\n",
    "\n",
    "```json  \n",
    "{  \n",
    "    \"access_type\": \"anomaly_no_access\" | \"anomaly_reader\" | \"anomaly_editor\", // Indicates the original role whose behavior is now anomalous  \n",
    "    \"num_read\": int,       // Number of read operations  \n",
    "    \"num_edits\": int,      // Number of edit operations  \n",
    "    \"num_downloads\": int,  // Number of download operations  \n",
    "    \"num_encryption\": int  // Number of encryption operations  \n",
    "}\n",
    "```\n",
    "\n",
    "**Context on Normal (Non-Anomalous) Behavior Patterns:**\n",
    "\n",
    "Understanding normal behavior is key to identifying the nature of an anomaly. Here's a summary:\n",
    "\n",
    "* **Normal no_access Profile:**  \n",
    "  * num_read: 0  \n",
    "  * num_edits: 0  \n",
    "  * num_downloads: 0  \n",
    "  * num_encryption: 0  \n",
    "  * *Any activity is anomalous.*  \n",
    "* **Normal reader Profile:**  \n",
    "  * num_read: Typically around 100 (e.g., from a distribution like N(100, 50)).  \n",
    "  * num_edits: 0 (Readers do not edit).  \n",
    "  * num_downloads: Typically around 10 (e.g., from N(10, 5)).  \n",
    "  * num_encryption: 0 (Readers do not encrypt).  \n",
    "  * *Anomalies might include any edits, any encryption, or vastly different read/download volumes.*  \n",
    "* **Normal editor Profile:**  \n",
    "  * num_read: Typically low, around 10 (e.g., from N(10, 10)).  \n",
    "  * num_edits: Typically high, around 200 (e.g., from N(200, 100)).  \n",
    "  * num_downloads: Typically low, around 5 (e.g., from N(5, 2)).  \n",
    "  * num_encryption: Typically low, around 10 (e.g., from N(10, 10)).  \n",
    "  * *Anomalies might include unusually high reads, very low edits, very high downloads, or very high encryption relative to their normal baseline.*\n",
    "\n",
    "**Anomaly Categories & Key Indicators:**\n",
    "\n",
    "Carefully consider the anomalous data in light of the normal patterns and the access_type prefix (e.g., anomaly_reader was originally a reader).\n",
    "\n",
    "1. **Privilege Escalation:**  \n",
    "   * **Definition:** An account performing actions typically reserved for a higher access level or explicitly forbidden for its designated role.  \n",
    "   * **Key Indicators:**  \n",
    "     * An anomaly_no_access record showing *any* num_read > 0 or num_edits > 0.  \n",
    "     * An anomaly_reader record showing num_edits > 0 or num_encryption > 0 (since normal readers cannot perform these actions).  \n",
    "     * The focus is on *gaining new capabilities* not just volume changes of existing ones.  \n",
    "2. **Data Exfiltration:**  \n",
    "   * **Definition:** The unauthorized copying, transfer, or retrieval of large volumes of data from the system.  \n",
    "   * **Key Indicators:**  \n",
    "     * An anomaly_reader or anomaly_editor record showing a num_downloads count that is drastically and significantly higher than its normal baseline (e.g., anomaly_reader with num_downloads of 50+ when normal is ~10; anomaly_editor with num_downloads of 30+ when normal is ~5).  \n",
    "     * May be accompanied by an unusually high num_read count, but the primary indicator is the excessive num_downloads.  \n",
    "3. **Ransomware Attack:**  \n",
    "   * **Definition:** Malicious activity involving the unauthorized encryption of data, rendering it inaccessible.  \n",
    "   * **Key Indicators:**  \n",
    "     * An anomaly_reader record showing *any* num_encryption > 0 (since normal readers do not encrypt).  \n",
    "     * An anomaly_editor record showing a num_encryption count that is drastically and significantly higher than its normal baseline (e.g., num_encryption of 50+ when normal is ~10).  \n",
    "     * May be accompanied by unusual num_edits if files are modified/encrypted in place.  \n",
    "4. **Unauthorized Access:**  \n",
    "   * **Definition:** Access to systems, applications, or data without proper authorization, or use of an authorized account in an unauthorized manner that doesn't clearly fit the other categories. This can be an initial breach or misuse of credentials.  \n",
    "   * **Key Indicators:**  \n",
    "     * This is the most direct category if an anomaly_no_access record shows *any activity at all*, as it signifies the account was used when it shouldn't have been.  \n",
    "     * An anomaly_reader or anomaly_editor performing actions that are unusual for their role but don't strongly align with the specific high-impact patterns of Privilege Escalation, Data Exfiltration, or Ransomware. For example:  \n",
    "       * An anomaly_editor with unusually high num_read (e.g., 100+) and/or unusually low num_edits (e.g., < 50), but without extreme num_downloads or num_encryption spikes. This might indicate an attacker using an editor account for reconnaissance rather than typical editing tasks.  \n",
    "     * Use this as a category when the activity is clearly suspicious and outside normal bounds for the given role, but doesn't meet the more specific criteria of the other three categories.\n",
    "\n",
    "Output Format:\n",
    "\n",
    "Respond with the name of the category and then the possible explanation for the input to belong to that category. If an input belong to multiple categories, then describle all the them one by one.\n",
    "\"\"\""
   ]
  },
  {
   "cell_type": "code",
   "execution_count": 17,
   "id": "8a474e8e-414a-4e78-861b-40c4689dca0e",
   "metadata": {
    "tags": []
   },
   "outputs": [],
   "source": [
    "client = genai.Client(http_options=genai.types.HttpOptions(api_version=\"v1\"))"
   ]
  },
  {
   "cell_type": "markdown",
   "id": "16008534-047f-413c-ae9b-de8d2183d82d",
   "metadata": {},
   "source": [
    "## Testing of the Gemini with an anomalous input"
   ]
  },
  {
   "cell_type": "code",
   "execution_count": 18,
   "id": "2df3cd31-ddc6-4216-a63a-8284b8b93510",
   "metadata": {
    "tags": []
   },
   "outputs": [],
   "source": [
    "test_alert_input = {\n",
    "    'num_read': 345,\n",
    "    'num_edits': 15,\n",
    "    'num_downloads': 57,\n",
    "    'num_encryption': 8,\n",
    "    'access_type_editor': False,\n",
    "    'access_type_no_access': False,\n",
    "    'access_type_reader': True\n",
    "}"
   ]
  },
  {
   "cell_type": "code",
   "execution_count": 19,
   "id": "751dde8f-20cd-4102-8513-fd17afef2eb6",
   "metadata": {
    "tags": []
   },
   "outputs": [],
   "source": [
    "response = client.models.generate_content(\n",
    "    model=\"gemini-2.0-flash\",\n",
    "    contents=f'''\n",
    "    # Data\n",
    "    \n",
    "    {test_alert_input}\n",
    "    ''',\n",
    "     config=genai.types.GenerateContentConfig(\n",
    "                system_instruction=system_prompt\n",
    "            ),\n",
    ")"
   ]
  },
  {
   "cell_type": "code",
   "execution_count": 20,
   "id": "18d74329-d918-4189-956a-3dd5b3cc4b5c",
   "metadata": {
    "tags": []
   },
   "outputs": [
    {
     "data": {
      "text/markdown": [
       "**Data Exfiltration:** The `num_downloads` value is 57. Since this is an anomaly_reader, and readers typically download around 10 files, this significant increase suggests a potential data exfiltration attempt.\n"
      ],
      "text/plain": [
       "<IPython.core.display.Markdown object>"
      ]
     },
     "execution_count": 20,
     "metadata": {},
     "output_type": "execute_result"
    }
   ],
   "source": [
    "Markdown(response.text)"
   ]
  },
  {
   "cell_type": "code",
   "execution_count": 21,
   "id": "52e866db-9df5-4146-a71d-2631f846c51d",
   "metadata": {
    "tags": []
   },
   "outputs": [],
   "source": [
    "def find_attack_associated_with_anomaly(client, alert_data):\n",
    "    response = client.models.generate_content(\n",
    "        model=\"gemini-2.0-flash\",\n",
    "        contents=f'''\n",
    "        # Data\n",
    "\n",
    "        {alert_data}\n",
    "        ''',\n",
    "         config=genai.types.GenerateContentConfig(\n",
    "                    system_instruction=system_prompt\n",
    "                ),\n",
    "    )\n",
    "    return response.text"
   ]
  },
  {
   "cell_type": "markdown",
   "id": "2a7dc84a-4836-4f60-8cf0-e961190c9788",
   "metadata": {},
   "source": [
    "# Beam Pipeline"
   ]
  },
  {
   "cell_type": "code",
   "execution_count": 22,
   "id": "bc33f3cc-5e67-401a-8186-5bca7210dd4a",
   "metadata": {
    "tags": []
   },
   "outputs": [],
   "source": [
    "import apache_beam as beam\n",
    "from apache_beam.options.pipeline_options import PipelineOptions\n",
    "from apache_beam.ml.anomaly.transforms import AnomalyDetection"
   ]
  },
  {
   "cell_type": "code",
   "execution_count": 24,
   "id": "fa1250fc-76e8-4749-8d85-3daa8ca3c8b4",
   "metadata": {
    "tags": []
   },
   "outputs": [],
   "source": [
    "from apache_beam.ml.anomaly.detectors.pyod_adapter import PyODFactory\n",
    "\n",
    "# Create detector for PyOd model pickled file\n",
    "detector = PyODFactory.create_detector(model_save_path, features=df_anomaly_test_without_user_name.columns)"
   ]
  },
  {
   "cell_type": "markdown",
   "id": "29339a8d-f8b0-4b57-8f8a-1fbe99cb3796",
   "metadata": {},
   "source": [
    "## Test in batch mode with limited data "
   ]
  },
  {
   "cell_type": "code",
   "execution_count": 25,
   "id": "94895628-7883-49c5-b80a-6990f218e27e",
   "metadata": {
    "tags": []
   },
   "outputs": [],
   "source": [
    "df_test_sample = list(df_anomaly_test_with_username.transpose().to_dict().values())[:10]"
   ]
  },
  {
   "cell_type": "code",
   "execution_count": 26,
   "id": "fe3b561c-49ab-4a66-9547-f083dbcb7749",
   "metadata": {
    "tags": []
   },
   "outputs": [
    {
     "data": {
      "text/plain": [
       "[{'num_read': 6,\n",
       "  'num_edits': 1,\n",
       "  'num_downloads': 0,\n",
       "  'num_encryption': 0,\n",
       "  'access_type_editor': False,\n",
       "  'access_type_no_access': True,\n",
       "  'access_type_reader': False,\n",
       "  'user_name': 'fboyd'},\n",
       " {'num_read': 8,\n",
       "  'num_edits': 4,\n",
       "  'num_downloads': 0,\n",
       "  'num_encryption': 0,\n",
       "  'access_type_editor': False,\n",
       "  'access_type_no_access': True,\n",
       "  'access_type_reader': False,\n",
       "  'user_name': 'kevinwilliams'},\n",
       " {'num_read': 375,\n",
       "  'num_edits': 20,\n",
       "  'num_downloads': 91,\n",
       "  'num_encryption': 8,\n",
       "  'access_type_editor': False,\n",
       "  'access_type_no_access': False,\n",
       "  'access_type_reader': True,\n",
       "  'user_name': 'boothbrian'},\n",
       " {'num_read': 363,\n",
       "  'num_edits': 20,\n",
       "  'num_downloads': 75,\n",
       "  'num_encryption': 15,\n",
       "  'access_type_editor': False,\n",
       "  'access_type_no_access': False,\n",
       "  'access_type_reader': True,\n",
       "  'user_name': 'karen28'},\n",
       " {'num_read': 348,\n",
       "  'num_edits': 17,\n",
       "  'num_downloads': 77,\n",
       "  'num_encryption': 9,\n",
       "  'access_type_editor': False,\n",
       "  'access_type_no_access': False,\n",
       "  'access_type_reader': True,\n",
       "  'user_name': 'donnagoodman'},\n",
       " {'num_read': 414,\n",
       "  'num_edits': 24,\n",
       "  'num_downloads': 84,\n",
       "  'num_encryption': 8,\n",
       "  'access_type_editor': False,\n",
       "  'access_type_no_access': False,\n",
       "  'access_type_reader': True,\n",
       "  'user_name': 'porterandrea'},\n",
       " {'num_read': 307,\n",
       "  'num_edits': 27,\n",
       "  'num_downloads': 87,\n",
       "  'num_encryption': 15,\n",
       "  'access_type_editor': False,\n",
       "  'access_type_no_access': False,\n",
       "  'access_type_reader': True,\n",
       "  'user_name': 'christopher49'},\n",
       " {'num_read': 290,\n",
       "  'num_edits': 16,\n",
       "  'num_downloads': 89,\n",
       "  'num_encryption': 8,\n",
       "  'access_type_editor': False,\n",
       "  'access_type_no_access': False,\n",
       "  'access_type_reader': True,\n",
       "  'user_name': 'timothycooke'},\n",
       " {'num_read': 346,\n",
       "  'num_edits': 18,\n",
       "  'num_downloads': 85,\n",
       "  'num_encryption': 15,\n",
       "  'access_type_editor': False,\n",
       "  'access_type_no_access': False,\n",
       "  'access_type_reader': True,\n",
       "  'user_name': 'tina72'},\n",
       " {'num_read': 378,\n",
       "  'num_edits': 18,\n",
       "  'num_downloads': 68,\n",
       "  'num_encryption': 9,\n",
       "  'access_type_editor': False,\n",
       "  'access_type_no_access': False,\n",
       "  'access_type_reader': True,\n",
       "  'user_name': 'brian81'}]"
      ]
     },
     "execution_count": 26,
     "metadata": {},
     "output_type": "execute_result"
    }
   ],
   "source": [
    "df_test_sample"
   ]
  },
  {
   "cell_type": "code",
   "execution_count": 27,
   "id": "e0c07e74-855e-4648-accb-f4faf09f5563",
   "metadata": {
    "tags": []
   },
   "outputs": [],
   "source": [
    "def fix_access_type(alert_data):\n",
    "    \"\"\"\n",
    "    Fix access type in alert data.\n",
    "    \n",
    "    Args:\n",
    "        alert_data: Tuple of (user_name, data)\n",
    "        \n",
    "    Returns:\n",
    "        Dictionary with fixed access type\n",
    "    \"\"\"\n",
    "    new_alert_data = {}\n",
    "    for k, v in alert_data[1].items():\n",
    "        if not k.startswith(\"access_type_\"):\n",
    "            new_alert_data[k] = v\n",
    "            continue\n",
    "        if not v:\n",
    "            continue\n",
    "        new_alert_data[\"access_type\"] = k.split(\"access_type_\")[1]\n",
    "    new_alert_data[\"user_name\"] = alert_data[0]\n",
    "    return new_alert_data"
   ]
  },
  {
   "cell_type": "code",
   "execution_count": 30,
   "id": "ae22c225-7022-4b7e-9ddc-7cee5bd5f397",
   "metadata": {
    "tags": []
   },
   "outputs": [],
   "source": [
    "class GeminiModelHandler(ModelHandler):\n",
    "    \"\"\"Model handler for Gemini inference.\"\"\"\n",
    "    \n",
    "    def load_model(self):\n",
    "        \"\"\"Load Gemini client.\"\"\"\n",
    "        client = genai.Client()\n",
    "        return client\n",
    "\n",
    "    def run_inference(self, batch, client, inference_args=None):\n",
    "        \"\"\"Run inference on a batch of examples.\n",
    "        \n",
    "        Args:\n",
    "            batch: Batch of examples\n",
    "            client: Gemini client\n",
    "            inference_args: Additional arguments for inference\n",
    "            \n",
    "        Yields:\n",
    "            Dictionary with original data and attack classification\n",
    "        \"\"\"\n",
    "        for b in batch:\n",
    "            yield {\"data\": b, \"attack\": find_attack_associated_with_anomaly(client, b)}\n"
   ]
  },
  {
   "cell_type": "code",
   "execution_count": 31,
   "id": "100065a7-aa19-4467-b04d-455fe1f1d71b",
   "metadata": {
    "tags": []
   },
   "outputs": [],
   "source": [
    "def convert_data_to_key_value(data):\n",
    "    \"\"\"\n",
    "    Convert the data to a key-value pair.\n",
    "    \n",
    "    Args:\n",
    "        data: Dictionary containing user data\n",
    "        \n",
    "    Returns:\n",
    "        Tuple of (user_name, data)\n",
    "    \"\"\"\n",
    "    data = data.copy()\n",
    "    user_name = data[\"user_name\"]\n",
    "    del data[\"user_name\"]\n",
    "    return (user_name, data)"
   ]
  },
  {
   "cell_type": "code",
   "execution_count": 32,
   "id": "5751d2cf-f091-4369-a920-7782ca641207",
   "metadata": {
    "tags": []
   },
   "outputs": [
    {
     "data": {
      "application/javascript": [
       "\n",
       "        if (typeof window.interactive_beam_jquery == 'undefined') {\n",
       "          var jqueryScript = document.createElement('script');\n",
       "          jqueryScript.src = 'https://code.jquery.com/jquery-3.4.1.slim.min.js';\n",
       "          jqueryScript.type = 'text/javascript';\n",
       "          jqueryScript.onload = function() {\n",
       "            var datatableScript = document.createElement('script');\n",
       "            datatableScript.src = 'https://cdn.datatables.net/1.10.20/js/jquery.dataTables.min.js';\n",
       "            datatableScript.type = 'text/javascript';\n",
       "            datatableScript.onload = function() {\n",
       "              window.interactive_beam_jquery = jQuery.noConflict(true);\n",
       "              window.interactive_beam_jquery(document).ready(function($){\n",
       "                \n",
       "              });\n",
       "            }\n",
       "            document.head.appendChild(datatableScript);\n",
       "          };\n",
       "          document.head.appendChild(jqueryScript);\n",
       "        } else {\n",
       "          window.interactive_beam_jquery(document).ready(function($){\n",
       "            \n",
       "          });\n",
       "        }"
      ]
     },
     "metadata": {},
     "output_type": "display_data"
    },
    {
     "data": {
      "text/markdown": [
       "{\n",
       "  \"data\": {\n",
       "    \"num_read\": 375,\n",
       "    \"num_edits\": 20,\n",
       "    \"num_downloads\": 91,\n",
       "    \"num_encryption\": 8,\n",
       "    \"access_type\": \"reader\",\n",
       "    \"user_name\": \"boothbrian\"\n",
       "  },\n",
       "  \"attack\": \"Data Exfiltration: The `num_downloads` value of 91 is drastically higher than the typical baseline of approximately 10 for a reader. This suggests a large volume of data being copied or transferred from the system, indicative of data exfiltration.\\n\\nUnauthorized Access: The `num_read` value of 375 is high, suggesting an unauthorized user may be exploring the system beyond normal reader activity.\\n\"\n",
       "}"
      ],
      "text/plain": [
       "<IPython.core.display.Markdown object>"
      ]
     },
     "metadata": {},
     "output_type": "display_data"
    },
    {
     "data": {
      "text/markdown": [
       "---"
      ],
      "text/plain": [
       "<IPython.core.display.Markdown object>"
      ]
     },
     "metadata": {},
     "output_type": "display_data"
    },
    {
     "data": {
      "text/markdown": [
       "{\n",
       "  \"data\": {\n",
       "    \"num_read\": 363,\n",
       "    \"num_edits\": 20,\n",
       "    \"num_downloads\": 75,\n",
       "    \"num_encryption\": 15,\n",
       "    \"access_type\": \"reader\",\n",
       "    \"user_name\": \"karen28\"\n",
       "  },\n",
       "  \"attack\": \"**Data Exfiltration:**\\n\\nExplanation: The user 'karen28' was initially a 'reader'. The 'num_downloads' count of 75 is drastically higher than the normal baseline for a reader (typically around 10). This suggests a large amount of data has been copied or transferred from the system, which is a key indicator of data exfiltration. Even though number of reads and encryption is also high, download is the primary indicator.\\n\"\n",
       "}"
      ],
      "text/plain": [
       "<IPython.core.display.Markdown object>"
      ]
     },
     "metadata": {},
     "output_type": "display_data"
    },
    {
     "data": {
      "text/markdown": [
       "---"
      ],
      "text/plain": [
       "<IPython.core.display.Markdown object>"
      ]
     },
     "metadata": {},
     "output_type": "display_data"
    },
    {
     "data": {
      "text/markdown": [
       "{\n",
       "  \"data\": {\n",
       "    \"num_read\": 348,\n",
       "    \"num_edits\": 17,\n",
       "    \"num_downloads\": 77,\n",
       "    \"num_encryption\": 9,\n",
       "    \"access_type\": \"reader\",\n",
       "    \"user_name\": \"donnagoodman\"\n",
       "  },\n",
       "  \"attack\": \"Data Exfiltration: The number of downloads (77) is significantly higher than the normal baseline for a reader (around 10). This suggests a large amount of data is being copied or transferred.\\n\\nUnauthorized Access: The number of reads (348) is unusually high for a reader. This along with the downloads suggests they are doing something they are not meant to, which could just be unauthorized data gathering.\\n\"\n",
       "}"
      ],
      "text/plain": [
       "<IPython.core.display.Markdown object>"
      ]
     },
     "metadata": {},
     "output_type": "display_data"
    },
    {
     "data": {
      "text/markdown": [
       "---"
      ],
      "text/plain": [
       "<IPython.core.display.Markdown object>"
      ]
     },
     "metadata": {},
     "output_type": "display_data"
    },
    {
     "data": {
      "text/markdown": [
       "{\n",
       "  \"data\": {\n",
       "    \"num_read\": 414,\n",
       "    \"num_edits\": 24,\n",
       "    \"num_downloads\": 84,\n",
       "    \"num_encryption\": 8,\n",
       "    \"access_type\": \"reader\",\n",
       "    \"user_name\": \"porterandrea\"\n",
       "  },\n",
       "  \"attack\": \"Data Exfiltration: The num_downloads value of 84 is significantly higher than the normal baseline of approximately 10 for a reader. This suggests a large amount of data was downloaded, indicating potential data exfiltration.\\nUnauthorized Access: The num_read value of 414 is significantly higher than the normal baseline of approximately 100 for a reader. While downloads are high, the read volume alone can also suggest unauthorized reconnaissance activities.\\n\\n\"\n",
       "}"
      ],
      "text/plain": [
       "<IPython.core.display.Markdown object>"
      ]
     },
     "metadata": {},
     "output_type": "display_data"
    },
    {
     "data": {
      "text/markdown": [
       "---"
      ],
      "text/plain": [
       "<IPython.core.display.Markdown object>"
      ]
     },
     "metadata": {},
     "output_type": "display_data"
    },
    {
     "data": {
      "text/markdown": [
       "{\n",
       "  \"data\": {\n",
       "    \"num_read\": 307,\n",
       "    \"num_edits\": 27,\n",
       "    \"num_downloads\": 87,\n",
       "    \"num_encryption\": 15,\n",
       "    \"access_type\": \"reader\",\n",
       "    \"user_name\": \"christopher49\"\n",
       "  },\n",
       "  \"attack\": \"Data Exfiltration: The num_downloads value of 87 is significantly higher than the reader's normal download baseline of approximately 10. This suggests a potential unauthorized extraction of data.\\n\\nRansomware Attack: The num_encryption value of 15 is non-zero, which is not a normal operation for a reader account. This suggests a potential ransomware attack.\\n\"\n",
       "}"
      ],
      "text/plain": [
       "<IPython.core.display.Markdown object>"
      ]
     },
     "metadata": {},
     "output_type": "display_data"
    },
    {
     "data": {
      "text/markdown": [
       "---"
      ],
      "text/plain": [
       "<IPython.core.display.Markdown object>"
      ]
     },
     "metadata": {},
     "output_type": "display_data"
    },
    {
     "data": {
      "text/markdown": [
       "{\n",
       "  \"data\": {\n",
       "    \"num_read\": 290,\n",
       "    \"num_edits\": 16,\n",
       "    \"num_downloads\": 89,\n",
       "    \"num_encryption\": 8,\n",
       "    \"access_type\": \"reader\",\n",
       "    \"user_name\": \"timothycooke\"\n",
       "  },\n",
       "  \"attack\": \"Data Exfiltration: The `num_downloads` value (89) is drastically higher than the normal baseline for a reader (typically around 10). This suggests a large amount of data is being copied or transferred.\\n\\nUnauthorized Access: The `num_read` value (290) is also significantly higher than what is considered normal (typically around 100). This, coupled with the downloads, suggests that a lot of data that is uncharacteristic for reader activities.\\n\\nPrivilege Escalation: The `num_edits` value is 16. This violates the normal behavior of reader.\\n\"\n",
       "}"
      ],
      "text/plain": [
       "<IPython.core.display.Markdown object>"
      ]
     },
     "metadata": {},
     "output_type": "display_data"
    },
    {
     "data": {
      "text/markdown": [
       "---"
      ],
      "text/plain": [
       "<IPython.core.display.Markdown object>"
      ]
     },
     "metadata": {},
     "output_type": "display_data"
    },
    {
     "data": {
      "text/markdown": [
       "{\n",
       "  \"data\": {\n",
       "    \"num_read\": 346,\n",
       "    \"num_edits\": 18,\n",
       "    \"num_downloads\": 85,\n",
       "    \"num_encryption\": 15,\n",
       "    \"access_type\": \"reader\",\n",
       "    \"user_name\": \"tina72\"\n",
       "  },\n",
       "  \"attack\": \"Data Exfiltration: The num_downloads value of 85 is significantly higher than the normal baseline for a reader (approximately 10), indicating a potential unauthorized copying of data.\\n\\nRansomware Attack: The num_encryption value of 15 is non-zero which is anomalous for the `reader` access_type.\\n\"\n",
       "}"
      ],
      "text/plain": [
       "<IPython.core.display.Markdown object>"
      ]
     },
     "metadata": {},
     "output_type": "display_data"
    },
    {
     "data": {
      "text/markdown": [
       "---"
      ],
      "text/plain": [
       "<IPython.core.display.Markdown object>"
      ]
     },
     "metadata": {},
     "output_type": "display_data"
    },
    {
     "data": {
      "text/markdown": [
       "{\n",
       "  \"data\": {\n",
       "    \"num_read\": 378,\n",
       "    \"num_edits\": 18,\n",
       "    \"num_downloads\": 68,\n",
       "    \"num_encryption\": 9,\n",
       "    \"access_type\": \"reader\",\n",
       "    \"user_name\": \"brian81\"\n",
       "  },\n",
       "  \"attack\": \"Data Exfiltration: The 'reader' account 'brian81' shows a significantly elevated number of downloads (68) compared to the typical reader profile (around 10). This suggests a potential attempt to exfiltrate data.\\n\\nUnauthorized Access: The high number of reads (378) is also outside the typical range for a reader, suggesting the account may be used for unauthorized data discovery in addition to the downloads.\\n\"\n",
       "}"
      ],
      "text/plain": [
       "<IPython.core.display.Markdown object>"
      ]
     },
     "metadata": {},
     "output_type": "display_data"
    },
    {
     "data": {
      "text/markdown": [
       "---"
      ],
      "text/plain": [
       "<IPython.core.display.Markdown object>"
      ]
     },
     "metadata": {},
     "output_type": "display_data"
    }
   ],
   "source": [
    "with beam.Pipeline() as p:\n",
    "    _ = (p\n",
    "         | beam.Create(df_test_sample)\n",
    "         | beam.Map(convert_data_to_key_value)\n",
    "         | beam.Map(lambda x: (x[0], beam.Row(**x[1])))\n",
    "         | AnomalyDetection(detector=detector)\n",
    "         | beam.Filter(lambda x: x[1].predictions[0].label)  # Filter only anomalies\n",
    "         | beam.Map(lambda x: (x[0], x[1].example.as_dict()))\n",
    "         | beam.Map(lambda x: fix_access_type(x))\n",
    "         | beam.ml.inference.RunInference(model_handler=GeminiModelHandler())\n",
    "         | \"JsonifyInput\" >> beam.Map(lambda x: json.dumps(x, indent=2))\n",
    "         # | beam.Map(print)\n",
    "         | beam.Map(lambda x: [\n",
    "             display(Markdown(x)), \n",
    "             display(Markdown(\"---\"))])\n",
    "    )"
   ]
  },
  {
   "cell_type": "markdown",
   "id": "292b36fe-d5ee-4bb4-8ebd-a62a7be83e58",
   "metadata": {
    "tags": []
   },
   "source": [
    "# Streaming with impulse sequence\n",
    "\n",
    "Here we will create a streaming sequence using impulse generator to run the pipeline"
   ]
  },
  {
   "cell_type": "code",
   "execution_count": 34,
   "id": "e37daaaa-cf4a-4697-8412-7244e45f844a",
   "metadata": {
    "tags": []
   },
   "outputs": [],
   "source": [
    "from collections.abc import Sequence\n",
    "from typing import Any\n",
    "from apache_beam.coders import VarIntCoder\n",
    "\n",
    "from apache_beam.transforms.periodicsequence import PeriodicImpulse\n",
    "from apache_beam.transforms.userstate import ReadModifyWriteStateSpec\n",
    "from apache_beam.transforms.window import FixedWindows"
   ]
  },
  {
   "cell_type": "code",
   "execution_count": 35,
   "id": "f16d8082-209e-4a27-81b5-2fa52ec495c1",
   "metadata": {
    "tags": []
   },
   "outputs": [],
   "source": [
    "class SequenceToPeriodicStream(beam.PTransform):\n",
    "    \"\"\" A streaming source that generate periodic event based on a given sequence. \"\"\"\n",
    "    def __init__(self, data:Sequence[Any], delay: float = 0.1, repeat: bool = True):\n",
    "        self._data = data\n",
    "        self._delay = delay\n",
    "        self._repeat = repeat\n",
    "\n",
    "    class EmitOne(beam.DoFn):\n",
    "        INDEX_SPEC = ReadModifyWriteStateSpec('index', VarIntCoder())\n",
    "\n",
    "        def __init__(self, data, repeat):\n",
    "            self._data = data\n",
    "            self._repeat = repeat\n",
    "            self._max_index = len(self._data)\n",
    "\n",
    "        def process(self, element, model_state=beam.DoFn.StateParam(INDEX_SPEC)):\n",
    "            index = model_state.read() or 0\n",
    "            if index >= self._max_index:\n",
    "                return\n",
    "\n",
    "            yield self._data[index]\n",
    "\n",
    "            index += 1\n",
    "            if self._repeat:\n",
    "                index %= self._max_index\n",
    "            model_state.write(index)\n",
    "\n",
    "    def expand(self, input):\n",
    "        return (\n",
    "            input | PeriodicImpulse(fire_interval=self._delay)\n",
    "            | beam.Map(lambda x: (0, x))\n",
    "            | beam.ParDo(SequenceToPeriodicStream.EmitOne(self._data, self._repeat))\n",
    "            | beam.WindowInto(FixedWindows(self._delay)))"
   ]
  },
  {
   "cell_type": "code",
   "execution_count": 43,
   "id": "a85a25b0-70b5-40b8-983f-75f40e693c9a",
   "metadata": {
    "tags": []
   },
   "outputs": [],
   "source": [
    "# Running the pipeline on prism\n",
    "options = PipelineOptions([\n",
    "    \"--streaming\",\n",
    "    \"--job_server_timeout=10\",\n",
    "    \"--environment_type=LOOPBACK\",\n",
    "    \"--runner=PrismRunner\", \n",
    "])"
   ]
  },
  {
   "cell_type": "code",
   "execution_count": 46,
   "id": "d56150a5-7a0a-42d3-a7c6-032c2eb35bcf",
   "metadata": {
    "tags": []
   },
   "outputs": [],
   "source": [
    "model_save_path = \"gs://\" + os.environ[\"GCS_ROOT\"] + '/anomaly/iforest.pkl'\n",
    "\n",
    "features = ('num_read', 'num_edits', 'num_downloads', 'num_encryption', \n",
    "           'access_type_editor', 'access_type_no_access', 'access_type_reader')\n",
    "detector = PyODFactory.create_detector(model_save_path, features=features)"
   ]
  },
  {
   "cell_type": "code",
   "execution_count": 47,
   "id": "767a91d1-fb26-4e98-89ab-16956799e861",
   "metadata": {
    "scrolled": true,
    "tags": []
   },
   "outputs": [
    {
     "data": {
      "text/markdown": [
       "{\n",
       "  \"data\": {\n",
       "    \"num_read\": 375,\n",
       "    \"num_edits\": 20,\n",
       "    \"num_downloads\": 91,\n",
       "    \"num_encryption\": 8,\n",
       "    \"access_type\": \"reader\",\n",
       "    \"user_name\": \"boothbrian\"\n",
       "  },\n",
       "  \"attack\": \"Data Exfiltration: The number of downloads (91) is significantly higher than the normal baseline for a reader (around 10). This suggests a large amount of data is being copied or transferred.\\n\\nUnauthorized Access: The number of reads (375) is unusually high for the typical behavior of the reader.\\n\"\n",
       "}"
      ],
      "text/plain": [
       "<IPython.core.display.Markdown object>"
      ]
     },
     "metadata": {},
     "output_type": "display_data"
    },
    {
     "data": {
      "text/markdown": [
       "---"
      ],
      "text/plain": [
       "<IPython.core.display.Markdown object>"
      ]
     },
     "metadata": {},
     "output_type": "display_data"
    },
    {
     "data": {
      "text/markdown": [
       "{\n",
       "  \"data\": {\n",
       "    \"num_read\": 363,\n",
       "    \"num_edits\": 20,\n",
       "    \"num_downloads\": 75,\n",
       "    \"num_encryption\": 15,\n",
       "    \"access_type\": \"reader\",\n",
       "    \"user_name\": \"karen28\"\n",
       "  },\n",
       "  \"attack\": \"**Data Exfiltration:**\\n\\nExplanation: The user 'karen28', whose access type is reader, has a significantly high number of downloads (75) compared to the normal baseline for readers (around 10). This suggests a potential data exfiltration attempt.\\n\\n**Unauthorized Access:**\\nExplanation: Number of edits for a reader is anomalous behavior. Readers do not usually have the ability to edit.\\n\"\n",
       "}"
      ],
      "text/plain": [
       "<IPython.core.display.Markdown object>"
      ]
     },
     "metadata": {},
     "output_type": "display_data"
    },
    {
     "data": {
      "text/markdown": [
       "---"
      ],
      "text/plain": [
       "<IPython.core.display.Markdown object>"
      ]
     },
     "metadata": {},
     "output_type": "display_data"
    },
    {
     "data": {
      "text/markdown": [
       "{\n",
       "  \"data\": {\n",
       "    \"num_read\": 348,\n",
       "    \"num_edits\": 17,\n",
       "    \"num_downloads\": 77,\n",
       "    \"num_encryption\": 9,\n",
       "    \"access_type\": \"reader\",\n",
       "    \"user_name\": \"donnagoodman\"\n",
       "  },\n",
       "  \"attack\": \"Data Exfiltration\\n\\nExplanation:\\nThe user 'donnagoodman' has 'reader' access. The number of downloads is 77, which is significantly higher than the typical download volume of 10 for reader profiles. This suggests a potential data exfiltration attempt, where the user is downloading a large amount of data.\\n\"\n",
       "}"
      ],
      "text/plain": [
       "<IPython.core.display.Markdown object>"
      ]
     },
     "metadata": {},
     "output_type": "display_data"
    },
    {
     "data": {
      "text/markdown": [
       "---"
      ],
      "text/plain": [
       "<IPython.core.display.Markdown object>"
      ]
     },
     "metadata": {},
     "output_type": "display_data"
    },
    {
     "data": {
      "text/markdown": [
       "{\n",
       "  \"data\": {\n",
       "    \"num_read\": 414,\n",
       "    \"num_edits\": 24,\n",
       "    \"num_downloads\": 84,\n",
       "    \"num_encryption\": 8,\n",
       "    \"access_type\": \"reader\",\n",
       "    \"user_name\": \"porterandrea\"\n",
       "  },\n",
       "  \"attack\": \"Data Exfiltration: The number of downloads (84) is significantly higher than the reader's normal baseline (around 10), suggesting a potential data exfiltration attempt. Also, the number of reads is also high.\\n\"\n",
       "}"
      ],
      "text/plain": [
       "<IPython.core.display.Markdown object>"
      ]
     },
     "metadata": {},
     "output_type": "display_data"
    },
    {
     "data": {
      "text/markdown": [
       "---"
      ],
      "text/plain": [
       "<IPython.core.display.Markdown object>"
      ]
     },
     "metadata": {},
     "output_type": "display_data"
    },
    {
     "data": {
      "text/markdown": [
       "{\n",
       "  \"data\": {\n",
       "    \"num_read\": 307,\n",
       "    \"num_edits\": 27,\n",
       "    \"num_downloads\": 87,\n",
       "    \"num_encryption\": 15,\n",
       "    \"access_type\": \"reader\",\n",
       "    \"user_name\": \"christopher49\"\n",
       "  },\n",
       "  \"attack\": \"Data Exfiltration: The num_downloads is significantly higher than the typical baseline for a reader (87 vs ~10). This suggests a large volume of data was downloaded, indicating potential data exfiltration.\\n\"\n",
       "}"
      ],
      "text/plain": [
       "<IPython.core.display.Markdown object>"
      ]
     },
     "metadata": {},
     "output_type": "display_data"
    },
    {
     "data": {
      "text/markdown": [
       "---"
      ],
      "text/plain": [
       "<IPython.core.display.Markdown object>"
      ]
     },
     "metadata": {},
     "output_type": "display_data"
    },
    {
     "data": {
      "text/markdown": [
       "{\n",
       "  \"data\": {\n",
       "    \"num_read\": 290,\n",
       "    \"num_edits\": 16,\n",
       "    \"num_downloads\": 89,\n",
       "    \"num_encryption\": 8,\n",
       "    \"access_type\": \"reader\",\n",
       "    \"user_name\": \"timothycooke\"\n",
       "  },\n",
       "  \"attack\": \"Data Exfiltration: The 'reader' account 'timothycooke' has an extremely high number of downloads (89) compared to the normal baseline of approximately 10. This significant deviation suggests a potential data exfiltration attempt.\\n\\nUnauthorized Access: The 'reader' account 'timothycooke' has a very large number of reads (290) compared to the normal baseline of approximately 100. Although the number of edits (16) and encryption (8) are zero according to the anomaly_reader profile context, the large number of reads indicates that this user might be doing unauthorized stuff.\\n\"\n",
       "}"
      ],
      "text/plain": [
       "<IPython.core.display.Markdown object>"
      ]
     },
     "metadata": {},
     "output_type": "display_data"
    },
    {
     "data": {
      "text/markdown": [
       "---"
      ],
      "text/plain": [
       "<IPython.core.display.Markdown object>"
      ]
     },
     "metadata": {},
     "output_type": "display_data"
    },
    {
     "data": {
      "text/markdown": [
       "{\n",
       "  \"data\": {\n",
       "    \"num_read\": 346,\n",
       "    \"num_edits\": 18,\n",
       "    \"num_downloads\": 85,\n",
       "    \"num_encryption\": 15,\n",
       "    \"access_type\": \"reader\",\n",
       "    \"user_name\": \"tina72\"\n",
       "  },\n",
       "  \"attack\": \"Data Exfiltration: The num_downloads is 85, which is significantly higher than the normal download volume for a reader (typically around 10). This suggests that the user may be attempting to exfiltrate data from the system.\\n\\nRansomware Attack: Also, a normal reader account should not perform any encryption operation, but the num_encryption here is 15, which strongly indicates that the user is performing malicious encryption operation on the data.\\n\"\n",
       "}"
      ],
      "text/plain": [
       "<IPython.core.display.Markdown object>"
      ]
     },
     "metadata": {},
     "output_type": "display_data"
    },
    {
     "data": {
      "text/markdown": [
       "---"
      ],
      "text/plain": [
       "<IPython.core.display.Markdown object>"
      ]
     },
     "metadata": {},
     "output_type": "display_data"
    },
    {
     "data": {
      "text/markdown": [
       "{\n",
       "  \"data\": {\n",
       "    \"num_read\": 378,\n",
       "    \"num_edits\": 18,\n",
       "    \"num_downloads\": 68,\n",
       "    \"num_encryption\": 9,\n",
       "    \"access_type\": \"reader\",\n",
       "    \"user_name\": \"brian81\"\n",
       "  },\n",
       "  \"attack\": \"Data Exfiltration: The `num_downloads` (68) is significantly higher than the normal baseline for a reader (typically around 10). This suggests a large volume of data is being copied or transferred, indicating potential data exfiltration.\\n\\nUnauthorized Access: The `num_read` is higher than the normal baseline. Also the `num_edits` and `num_encryption` is not 0.\\n\"\n",
       "}"
      ],
      "text/plain": [
       "<IPython.core.display.Markdown object>"
      ]
     },
     "metadata": {},
     "output_type": "display_data"
    },
    {
     "data": {
      "text/markdown": [
       "---"
      ],
      "text/plain": [
       "<IPython.core.display.Markdown object>"
      ]
     },
     "metadata": {},
     "output_type": "display_data"
    },
    {
     "ename": "KeyboardInterrupt",
     "evalue": "",
     "output_type": "error",
     "traceback": [
      "\u001b[0;31m---------------------------------------------------------------------------\u001b[0m",
      "\u001b[0;31mKeyboardInterrupt\u001b[0m                         Traceback (most recent call last)",
      "Cell \u001b[0;32mIn[47], line 1\u001b[0m\n\u001b[0;32m----> 1\u001b[0m \u001b[38;5;28;43;01mwith\u001b[39;49;00m\u001b[43m \u001b[49m\u001b[43mbeam\u001b[49m\u001b[38;5;241;43m.\u001b[39;49m\u001b[43mPipeline\u001b[49m\u001b[43m(\u001b[49m\u001b[43moptions\u001b[49m\u001b[38;5;241;43m=\u001b[39;49m\u001b[43moptions\u001b[49m\u001b[43m)\u001b[49m\u001b[43m \u001b[49m\u001b[38;5;28;43;01mas\u001b[39;49;00m\u001b[43m \u001b[49m\u001b[43mp\u001b[49m\u001b[43m:\u001b[49m\n\u001b[1;32m      2\u001b[0m \u001b[43m    \u001b[49m\u001b[43m_\u001b[49m\u001b[43m \u001b[49m\u001b[38;5;241;43m=\u001b[39;49m\u001b[43m \u001b[49m\u001b[43m(\u001b[49m\u001b[43mp\u001b[49m\n\u001b[1;32m      3\u001b[0m \u001b[43m         \u001b[49m\u001b[38;5;241;43m|\u001b[39;49m\u001b[43m \u001b[49m\u001b[43mSequenceToPeriodicStream\u001b[49m\u001b[43m(\u001b[49m\u001b[43mdf_test_sample\u001b[49m\u001b[43m,\u001b[49m\u001b[43m \u001b[49m\u001b[43mdelay\u001b[49m\u001b[38;5;241;43m=\u001b[39;49m\u001b[38;5;241;43m1\u001b[39;49m\u001b[43m,\u001b[49m\u001b[43m \u001b[49m\u001b[43mrepeat\u001b[49m\u001b[38;5;241;43m=\u001b[39;49m\u001b[38;5;28;43;01mFalse\u001b[39;49;00m\u001b[43m)\u001b[49m\n\u001b[1;32m      4\u001b[0m \u001b[43m         \u001b[49m\u001b[38;5;241;43m|\u001b[39;49m\u001b[43m \u001b[49m\u001b[43mbeam\u001b[49m\u001b[38;5;241;43m.\u001b[39;49m\u001b[43mMap\u001b[49m\u001b[43m(\u001b[49m\u001b[43mconvert_data_to_key_value\u001b[49m\u001b[43m)\u001b[49m\n\u001b[0;32m   (...)\u001b[0m\n\u001b[1;32m     15\u001b[0m \u001b[43m         \u001b[49m\u001b[38;5;66;43;03m# | \"PublishAlerts\" >> beam.io.gcp.pubsub.WriteToPubSub(topic=os.environ[\"PUBSUB_TOPIC_ALERT\"])\u001b[39;49;00m\n\u001b[1;32m     16\u001b[0m \u001b[43m    \u001b[49m\u001b[43m)\u001b[49m\n",
      "File \u001b[0;32m~/beam-college/.venv/lib/python3.11/site-packages/apache_beam/pipeline.py:662\u001b[0m, in \u001b[0;36mPipeline.__exit__\u001b[0;34m(self, exc_type, exc_val, exc_tb)\u001b[0m\n\u001b[1;32m    660\u001b[0m \u001b[38;5;28;01mtry\u001b[39;00m:\n\u001b[1;32m    661\u001b[0m   \u001b[38;5;28;01mif\u001b[39;00m \u001b[38;5;129;01mnot\u001b[39;00m exc_type:\n\u001b[0;32m--> 662\u001b[0m     \u001b[38;5;28mself\u001b[39m\u001b[38;5;241m.\u001b[39mresult \u001b[38;5;241m=\u001b[39m \u001b[38;5;28;43mself\u001b[39;49m\u001b[38;5;241;43m.\u001b[39;49m\u001b[43mrun\u001b[49m\u001b[43m(\u001b[49m\u001b[43m)\u001b[49m\n\u001b[1;32m    663\u001b[0m     \u001b[38;5;28;01mif\u001b[39;00m \u001b[38;5;129;01mnot\u001b[39;00m \u001b[38;5;28mself\u001b[39m\u001b[38;5;241m.\u001b[39m_options\u001b[38;5;241m.\u001b[39mview_as(StandardOptions)\u001b[38;5;241m.\u001b[39mno_wait_until_finish:\n\u001b[1;32m    664\u001b[0m       \u001b[38;5;28mself\u001b[39m\u001b[38;5;241m.\u001b[39mresult\u001b[38;5;241m.\u001b[39mwait_until_finish()\n",
      "File \u001b[0;32m~/beam-college/.venv/lib/python3.11/site-packages/apache_beam/pipeline.py:612\u001b[0m, in \u001b[0;36mPipeline.run\u001b[0;34m(self, test_runner_api)\u001b[0m\n\u001b[1;32m    607\u001b[0m \u001b[38;5;66;03m# When possible, invoke a round trip through the runner API.\u001b[39;00m\n\u001b[1;32m    608\u001b[0m \u001b[38;5;28;01mif\u001b[39;00m test_runner_api \u001b[38;5;129;01mand\u001b[39;00m \u001b[38;5;28mself\u001b[39m\u001b[38;5;241m.\u001b[39m_verify_runner_api_compatible():\n\u001b[1;32m    609\u001b[0m   \u001b[38;5;28;01mreturn\u001b[39;00m \u001b[43mPipeline\u001b[49m\u001b[38;5;241;43m.\u001b[39;49m\u001b[43mfrom_runner_api\u001b[49m\u001b[43m(\u001b[49m\n\u001b[1;32m    610\u001b[0m \u001b[43m      \u001b[49m\u001b[38;5;28;43mself\u001b[39;49m\u001b[38;5;241;43m.\u001b[39;49m\u001b[43mto_runner_api\u001b[49m\u001b[43m(\u001b[49m\u001b[43muse_fake_coders\u001b[49m\u001b[38;5;241;43m=\u001b[39;49m\u001b[38;5;28;43;01mTrue\u001b[39;49;00m\u001b[43m)\u001b[49m\u001b[43m,\u001b[49m\n\u001b[1;32m    611\u001b[0m \u001b[43m      \u001b[49m\u001b[38;5;28;43mself\u001b[39;49m\u001b[38;5;241;43m.\u001b[39;49m\u001b[43mrunner\u001b[49m\u001b[43m,\u001b[49m\n\u001b[0;32m--> 612\u001b[0m \u001b[43m      \u001b[49m\u001b[38;5;28;43mself\u001b[39;49m\u001b[38;5;241;43m.\u001b[39;49m\u001b[43m_options\u001b[49m\u001b[43m)\u001b[49m\u001b[38;5;241;43m.\u001b[39;49m\u001b[43mrun\u001b[49m\u001b[43m(\u001b[49m\u001b[38;5;28;43;01mFalse\u001b[39;49;00m\u001b[43m)\u001b[49m\n\u001b[1;32m    614\u001b[0m \u001b[38;5;28;01mif\u001b[39;00m (\u001b[38;5;28mself\u001b[39m\u001b[38;5;241m.\u001b[39m_options\u001b[38;5;241m.\u001b[39mview_as(TypeOptions)\u001b[38;5;241m.\u001b[39mruntime_type_check \u001b[38;5;129;01mand\u001b[39;00m\n\u001b[1;32m    615\u001b[0m     \u001b[38;5;28mself\u001b[39m\u001b[38;5;241m.\u001b[39m_options\u001b[38;5;241m.\u001b[39mview_as(TypeOptions)\u001b[38;5;241m.\u001b[39mperformance_runtime_type_check):\n\u001b[1;32m    616\u001b[0m   \u001b[38;5;28;01mraise\u001b[39;00m \u001b[38;5;167;01mRuntimeError\u001b[39;00m(\n\u001b[1;32m    617\u001b[0m       \u001b[38;5;124m'\u001b[39m\u001b[38;5;124mYou cannot turn on runtime_type_check \u001b[39m\u001b[38;5;124m'\u001b[39m\n\u001b[1;32m    618\u001b[0m       \u001b[38;5;124m'\u001b[39m\u001b[38;5;124mand performance_runtime_type_check simultaneously. \u001b[39m\u001b[38;5;124m'\u001b[39m\n\u001b[1;32m    619\u001b[0m       \u001b[38;5;124m'\u001b[39m\u001b[38;5;124mPick one or the other.\u001b[39m\u001b[38;5;124m'\u001b[39m)\n",
      "File \u001b[0;32m~/beam-college/.venv/lib/python3.11/site-packages/apache_beam/pipeline.py:636\u001b[0m, in \u001b[0;36mPipeline.run\u001b[0;34m(self, test_runner_api)\u001b[0m\n\u001b[1;32m    634\u001b[0m     \u001b[38;5;28;01mfinally\u001b[39;00m:\n\u001b[1;32m    635\u001b[0m       shutil\u001b[38;5;241m.\u001b[39mrmtree(tmpdir)\n\u001b[0;32m--> 636\u001b[0m   \u001b[38;5;28;01mreturn\u001b[39;00m \u001b[38;5;28;43mself\u001b[39;49m\u001b[38;5;241;43m.\u001b[39;49m\u001b[43mrunner\u001b[49m\u001b[38;5;241;43m.\u001b[39;49m\u001b[43mrun_pipeline\u001b[49m\u001b[43m(\u001b[49m\u001b[38;5;28;43mself\u001b[39;49m\u001b[43m,\u001b[49m\u001b[43m \u001b[49m\u001b[38;5;28;43mself\u001b[39;49m\u001b[38;5;241;43m.\u001b[39;49m\u001b[43m_options\u001b[49m\u001b[43m)\u001b[49m\n\u001b[1;32m    637\u001b[0m \u001b[38;5;28;01mfinally\u001b[39;00m:\n\u001b[1;32m    638\u001b[0m   \u001b[38;5;28;01mif\u001b[39;00m \u001b[38;5;129;01mnot\u001b[39;00m is_in_ipython():\n",
      "File \u001b[0;32m~/beam-college/.venv/lib/python3.11/site-packages/apache_beam/runners/direct/direct_runner.py:184\u001b[0m, in \u001b[0;36mSwitchingDirectRunner.run_pipeline\u001b[0;34m(self, pipeline, options)\u001b[0m\n\u001b[1;32m    181\u001b[0m     _LOGGER\u001b[38;5;241m.\u001b[39minfo(\u001b[38;5;124m'\u001b[39m\u001b[38;5;124mFalling back to DirectRunner\u001b[39m\u001b[38;5;124m'\u001b[39m)\n\u001b[1;32m    182\u001b[0m     runner \u001b[38;5;241m=\u001b[39m BundleBasedDirectRunner()\n\u001b[0;32m--> 184\u001b[0m \u001b[38;5;28;01mreturn\u001b[39;00m \u001b[43mrunner\u001b[49m\u001b[38;5;241;43m.\u001b[39;49m\u001b[43mrun_pipeline\u001b[49m\u001b[43m(\u001b[49m\u001b[43mpipeline\u001b[49m\u001b[43m,\u001b[49m\u001b[43m \u001b[49m\u001b[43moptions\u001b[49m\u001b[43m)\u001b[49m\n",
      "File \u001b[0;32m~/beam-college/.venv/lib/python3.11/site-packages/apache_beam/runners/portability/fn_api_runner/fn_runner.py:196\u001b[0m, in \u001b[0;36mFnApiRunner.run_pipeline\u001b[0;34m(self, pipeline, options)\u001b[0m\n\u001b[1;32m    185\u001b[0m   _LOGGER\u001b[38;5;241m.\u001b[39mwarning(\n\u001b[1;32m    186\u001b[0m       \u001b[38;5;124m'\u001b[39m\u001b[38;5;124mIf direct_num_workers is not equal to 1, direct_running_mode \u001b[39m\u001b[38;5;124m'\u001b[39m\n\u001b[1;32m    187\u001b[0m       \u001b[38;5;124m'\u001b[39m\u001b[38;5;124mshould be `multi_processing` or `multi_threading` instead of \u001b[39m\u001b[38;5;124m'\u001b[39m\n\u001b[0;32m   (...)\u001b[0m\n\u001b[1;32m    190\u001b[0m       \u001b[38;5;28mself\u001b[39m\u001b[38;5;241m.\u001b[39m_num_workers,\n\u001b[1;32m    191\u001b[0m       running_mode)\n\u001b[1;32m    193\u001b[0m \u001b[38;5;28mself\u001b[39m\u001b[38;5;241m.\u001b[39m_profiler_factory \u001b[38;5;241m=\u001b[39m Profile\u001b[38;5;241m.\u001b[39mfactory_from_options(\n\u001b[1;32m    194\u001b[0m     options\u001b[38;5;241m.\u001b[39mview_as(pipeline_options\u001b[38;5;241m.\u001b[39mProfilingOptions))\n\u001b[0;32m--> 196\u001b[0m \u001b[38;5;28mself\u001b[39m\u001b[38;5;241m.\u001b[39m_latest_run_result \u001b[38;5;241m=\u001b[39m \u001b[38;5;28;43mself\u001b[39;49m\u001b[38;5;241;43m.\u001b[39;49m\u001b[43mrun_via_runner_api\u001b[49m\u001b[43m(\u001b[49m\n\u001b[1;32m    197\u001b[0m \u001b[43m    \u001b[49m\u001b[43mpipeline\u001b[49m\u001b[38;5;241;43m.\u001b[39;49m\u001b[43mto_runner_api\u001b[49m\u001b[43m(\u001b[49m\u001b[43mdefault_environment\u001b[49m\u001b[38;5;241;43m=\u001b[39;49m\u001b[38;5;28;43mself\u001b[39;49m\u001b[38;5;241;43m.\u001b[39;49m\u001b[43m_default_environment\u001b[49m\u001b[43m)\u001b[49m\u001b[43m,\u001b[49m\n\u001b[1;32m    198\u001b[0m \u001b[43m    \u001b[49m\u001b[43moptions\u001b[49m\u001b[43m)\u001b[49m\n\u001b[1;32m    199\u001b[0m \u001b[38;5;28;01mreturn\u001b[39;00m \u001b[38;5;28mself\u001b[39m\u001b[38;5;241m.\u001b[39m_latest_run_result\n",
      "File \u001b[0;32m~/beam-college/.venv/lib/python3.11/site-packages/apache_beam/runners/portability/fn_api_runner/fn_runner.py:223\u001b[0m, in \u001b[0;36mFnApiRunner.run_via_runner_api\u001b[0;34m(self, pipeline_proto, options)\u001b[0m\n\u001b[1;32m    219\u001b[0m pipeline_proto \u001b[38;5;241m=\u001b[39m merge_common_environments(\n\u001b[1;32m    220\u001b[0m     \u001b[38;5;28mself\u001b[39m\u001b[38;5;241m.\u001b[39mresolve_any_environments(\n\u001b[1;32m    221\u001b[0m         merge_superset_dep_environments(pipeline_proto)))\n\u001b[1;32m    222\u001b[0m stage_context, stages \u001b[38;5;241m=\u001b[39m \u001b[38;5;28mself\u001b[39m\u001b[38;5;241m.\u001b[39mcreate_stages(pipeline_proto)\n\u001b[0;32m--> 223\u001b[0m \u001b[38;5;28;01mreturn\u001b[39;00m \u001b[38;5;28;43mself\u001b[39;49m\u001b[38;5;241;43m.\u001b[39;49m\u001b[43mrun_stages\u001b[49m\u001b[43m(\u001b[49m\u001b[43mstage_context\u001b[49m\u001b[43m,\u001b[49m\u001b[43m \u001b[49m\u001b[43mstages\u001b[49m\u001b[43m)\u001b[49m\n",
      "File \u001b[0;32m~/beam-college/.venv/lib/python3.11/site-packages/apache_beam/runners/portability/fn_api_runner/fn_runner.py:470\u001b[0m, in \u001b[0;36mFnApiRunner.run_stages\u001b[0;34m(self, stage_context, stages)\u001b[0m\n\u001b[1;32m    467\u001b[0m \u001b[38;5;28;01massert\u001b[39;00m consuming_stage_name \u001b[38;5;241m==\u001b[39m bundle_context_manager\u001b[38;5;241m.\u001b[39mstage\u001b[38;5;241m.\u001b[39mname\n\u001b[1;32m    469\u001b[0m bundle_counter \u001b[38;5;241m+\u001b[39m\u001b[38;5;241m=\u001b[39m \u001b[38;5;241m1\u001b[39m\n\u001b[0;32m--> 470\u001b[0m bundle_results \u001b[38;5;241m=\u001b[39m \u001b[38;5;28;43mself\u001b[39;49m\u001b[38;5;241;43m.\u001b[39;49m\u001b[43m_execute_bundle\u001b[49m\u001b[43m(\u001b[49m\n\u001b[1;32m    471\u001b[0m \u001b[43m    \u001b[49m\u001b[43mrunner_execution_context\u001b[49m\u001b[43m,\u001b[49m\u001b[43m \u001b[49m\u001b[43mbundle_context_manager\u001b[49m\u001b[43m,\u001b[49m\u001b[43m \u001b[49m\u001b[43mbundle_input\u001b[49m\u001b[43m)\u001b[49m\n\u001b[1;32m    473\u001b[0m \u001b[38;5;28;01mif\u001b[39;00m consuming_stage_name \u001b[38;5;129;01min\u001b[39;00m monitoring_infos_by_stage:\n\u001b[1;32m    474\u001b[0m   monitoring_infos_by_stage[\n\u001b[1;32m    475\u001b[0m       consuming_stage_name] \u001b[38;5;241m=\u001b[39m consolidate_monitoring_infos(\n\u001b[1;32m    476\u001b[0m           itertools\u001b[38;5;241m.\u001b[39mchain(\n\u001b[1;32m    477\u001b[0m               bundle_results\u001b[38;5;241m.\u001b[39mprocess_bundle\u001b[38;5;241m.\u001b[39mmonitoring_infos,\n\u001b[1;32m    478\u001b[0m               monitoring_infos_by_stage[consuming_stage_name]))\n",
      "File \u001b[0;32m~/beam-college/.venv/lib/python3.11/site-packages/apache_beam/runners/portability/fn_api_runner/fn_runner.py:795\u001b[0m, in \u001b[0;36mFnApiRunner._execute_bundle\u001b[0;34m(self, runner_execution_context, bundle_context_manager, bundle_input)\u001b[0m\n\u001b[1;32m    790\u001b[0m \u001b[38;5;66;03m# We create the bundle manager here, as it can be reused for bundles of\u001b[39;00m\n\u001b[1;32m    791\u001b[0m \u001b[38;5;66;03m# the same stage, but it may have to be created by-bundle later on.\u001b[39;00m\n\u001b[1;32m    792\u001b[0m bundle_manager \u001b[38;5;241m=\u001b[39m \u001b[38;5;28mself\u001b[39m\u001b[38;5;241m.\u001b[39m_get_bundle_manager(bundle_context_manager)\n\u001b[1;32m    794\u001b[0m last_result, deferred_inputs, newly_set_timers, watermark_updates \u001b[38;5;241m=\u001b[39m (\n\u001b[0;32m--> 795\u001b[0m     \u001b[38;5;28;43mself\u001b[39;49m\u001b[38;5;241;43m.\u001b[39;49m\u001b[43m_run_bundle\u001b[49m\u001b[43m(\u001b[49m\n\u001b[1;32m    796\u001b[0m \u001b[43m        \u001b[49m\u001b[43mrunner_execution_context\u001b[49m\u001b[43m,\u001b[49m\n\u001b[1;32m    797\u001b[0m \u001b[43m        \u001b[49m\u001b[43mbundle_context_manager\u001b[49m\u001b[43m,\u001b[49m\n\u001b[1;32m    798\u001b[0m \u001b[43m        \u001b[49m\u001b[43mbundle_input\u001b[49m\u001b[43m,\u001b[49m\n\u001b[1;32m    799\u001b[0m \u001b[43m        \u001b[49m\u001b[43mbundle_context_manager\u001b[49m\u001b[38;5;241;43m.\u001b[39;49m\u001b[43mstage_data_outputs\u001b[49m\u001b[43m,\u001b[49m\n\u001b[1;32m    800\u001b[0m \u001b[43m        \u001b[49m\u001b[43mbundle_context_manager\u001b[49m\u001b[38;5;241;43m.\u001b[39;49m\u001b[43mstage_timer_outputs\u001b[49m\u001b[43m,\u001b[49m\n\u001b[1;32m    801\u001b[0m \u001b[43m        \u001b[49m\u001b[43mbundle_manager\u001b[49m\u001b[43m)\u001b[49m)\n\u001b[1;32m    803\u001b[0m \u001b[38;5;28;01mfor\u001b[39;00m pc_name, watermark \u001b[38;5;129;01min\u001b[39;00m watermark_updates\u001b[38;5;241m.\u001b[39mitems():\n\u001b[1;32m    804\u001b[0m   _BUNDLE_LOGGER\u001b[38;5;241m.\u001b[39mdebug(\u001b[38;5;124m'\u001b[39m\u001b[38;5;124mUpdate: \u001b[39m\u001b[38;5;132;01m%s\u001b[39;00m\u001b[38;5;124m \u001b[39m\u001b[38;5;132;01m%s\u001b[39;00m\u001b[38;5;124m'\u001b[39m, pc_name, watermark)\n",
      "File \u001b[0;32m~/beam-college/.venv/lib/python3.11/site-packages/apache_beam/runners/portability/fn_api_runner/fn_runner.py:1034\u001b[0m, in \u001b[0;36mFnApiRunner._run_bundle\u001b[0;34m(self, runner_execution_context, bundle_context_manager, bundle_input, data_output, expected_timer_output, bundle_manager)\u001b[0m\n\u001b[1;32m   1025\u001b[0m input_timers \u001b[38;5;241m=\u001b[39m bundle_input\u001b[38;5;241m.\u001b[39mtimers\n\u001b[1;32m   1026\u001b[0m \u001b[38;5;28mself\u001b[39m\u001b[38;5;241m.\u001b[39m_run_bundle_multiple_times_for_testing(\n\u001b[1;32m   1027\u001b[0m     runner_execution_context,\n\u001b[1;32m   1028\u001b[0m     bundle_manager,\n\u001b[0;32m   (...)\u001b[0m\n\u001b[1;32m   1031\u001b[0m     input_timers,\n\u001b[1;32m   1032\u001b[0m     expected_timer_output)\n\u001b[0;32m-> 1034\u001b[0m result, splits \u001b[38;5;241m=\u001b[39m \u001b[43mbundle_manager\u001b[49m\u001b[38;5;241;43m.\u001b[39;49m\u001b[43mprocess_bundle\u001b[49m\u001b[43m(\u001b[49m\n\u001b[1;32m   1035\u001b[0m \u001b[43m    \u001b[49m\u001b[43mdata_input\u001b[49m\u001b[43m,\u001b[49m\u001b[43m \u001b[49m\u001b[43mdata_output\u001b[49m\u001b[43m,\u001b[49m\u001b[43m \u001b[49m\u001b[43minput_timers\u001b[49m\u001b[43m,\u001b[49m\u001b[43m \u001b[49m\u001b[43mexpected_timer_output\u001b[49m\u001b[43m)\u001b[49m\n\u001b[1;32m   1036\u001b[0m \u001b[38;5;66;03m# Now we collect all the deferred inputs remaining from bundle execution.\u001b[39;00m\n\u001b[1;32m   1037\u001b[0m \u001b[38;5;66;03m# Deferred inputs can be:\u001b[39;00m\n\u001b[1;32m   1038\u001b[0m \u001b[38;5;66;03m# - timers\u001b[39;00m\n\u001b[1;32m   1039\u001b[0m \u001b[38;5;66;03m# - SDK-initiated deferred applications of root elements\u001b[39;00m\n\u001b[1;32m   1040\u001b[0m \u001b[38;5;66;03m# - Runner-initiated deferred applications of root elements\u001b[39;00m\n\u001b[1;32m   1041\u001b[0m deferred_inputs: Dict[\u001b[38;5;28mstr\u001b[39m, execution\u001b[38;5;241m.\u001b[39mPartitionableBuffer] \u001b[38;5;241m=\u001b[39m {}\n",
      "File \u001b[0;32m~/beam-college/.venv/lib/python3.11/site-packages/apache_beam/runners/portability/fn_api_runner/fn_runner.py:1360\u001b[0m, in \u001b[0;36mBundleManager.process_bundle\u001b[0;34m(self, inputs, expected_outputs, fired_timers, expected_output_timers, dry_run)\u001b[0m\n\u001b[1;32m   1353\u001b[0m \u001b[38;5;66;03m# Actually start the bundle.\u001b[39;00m\n\u001b[1;32m   1354\u001b[0m process_bundle_req \u001b[38;5;241m=\u001b[39m beam_fn_api_pb2\u001b[38;5;241m.\u001b[39mInstructionRequest(\n\u001b[1;32m   1355\u001b[0m     instruction_id\u001b[38;5;241m=\u001b[39mprocess_bundle_id,\n\u001b[1;32m   1356\u001b[0m     process_bundle\u001b[38;5;241m=\u001b[39mbeam_fn_api_pb2\u001b[38;5;241m.\u001b[39mProcessBundleRequest(\n\u001b[1;32m   1357\u001b[0m         process_bundle_descriptor_id\u001b[38;5;241m=\u001b[39m\u001b[38;5;28mself\u001b[39m\u001b[38;5;241m.\u001b[39mbundle_context_manager\u001b[38;5;241m.\u001b[39m\n\u001b[1;32m   1358\u001b[0m         process_bundle_descriptor\u001b[38;5;241m.\u001b[39mid,\n\u001b[1;32m   1359\u001b[0m         cache_tokens\u001b[38;5;241m=\u001b[39m[\u001b[38;5;28mnext\u001b[39m(\u001b[38;5;28mself\u001b[39m\u001b[38;5;241m.\u001b[39m_cache_token_generator)]))\n\u001b[0;32m-> 1360\u001b[0m result_future \u001b[38;5;241m=\u001b[39m \u001b[38;5;28;43mself\u001b[39;49m\u001b[38;5;241;43m.\u001b[39;49m\u001b[43m_worker_handler\u001b[49m\u001b[38;5;241;43m.\u001b[39;49m\u001b[43mcontrol_conn\u001b[49m\u001b[38;5;241;43m.\u001b[39;49m\u001b[43mpush\u001b[49m\u001b[43m(\u001b[49m\u001b[43mprocess_bundle_req\u001b[49m\u001b[43m)\u001b[49m\n\u001b[1;32m   1362\u001b[0m split_results: List[beam_fn_api_pb2\u001b[38;5;241m.\u001b[39mProcessBundleSplitResponse] \u001b[38;5;241m=\u001b[39m []\n\u001b[1;32m   1363\u001b[0m \u001b[38;5;28;01mwith\u001b[39;00m ProgressRequester(\u001b[38;5;28mself\u001b[39m\u001b[38;5;241m.\u001b[39m_worker_handler,\n\u001b[1;32m   1364\u001b[0m                        process_bundle_id,\n\u001b[1;32m   1365\u001b[0m                        \u001b[38;5;28mself\u001b[39m\u001b[38;5;241m.\u001b[39m_progress_frequency):\n",
      "File \u001b[0;32m~/beam-college/.venv/lib/python3.11/site-packages/apache_beam/runners/portability/fn_api_runner/worker_handlers.py:386\u001b[0m, in \u001b[0;36mEmbeddedWorkerHandler.push\u001b[0;34m(self, request)\u001b[0m\n\u001b[1;32m    384\u001b[0m   \u001b[38;5;28mself\u001b[39m\u001b[38;5;241m.\u001b[39m_uid_counter \u001b[38;5;241m+\u001b[39m\u001b[38;5;241m=\u001b[39m \u001b[38;5;241m1\u001b[39m\n\u001b[1;32m    385\u001b[0m   request\u001b[38;5;241m.\u001b[39minstruction_id \u001b[38;5;241m=\u001b[39m \u001b[38;5;124m'\u001b[39m\u001b[38;5;124mcontrol_\u001b[39m\u001b[38;5;132;01m%s\u001b[39;00m\u001b[38;5;124m'\u001b[39m \u001b[38;5;241m%\u001b[39m \u001b[38;5;28mself\u001b[39m\u001b[38;5;241m.\u001b[39m_uid_counter\n\u001b[0;32m--> 386\u001b[0m response \u001b[38;5;241m=\u001b[39m \u001b[38;5;28;43mself\u001b[39;49m\u001b[38;5;241;43m.\u001b[39;49m\u001b[43mworker\u001b[49m\u001b[38;5;241;43m.\u001b[39;49m\u001b[43mdo_instruction\u001b[49m\u001b[43m(\u001b[49m\u001b[43mrequest\u001b[49m\u001b[43m)\u001b[49m\n\u001b[1;32m    387\u001b[0m \u001b[38;5;28;01mreturn\u001b[39;00m ControlFuture(request\u001b[38;5;241m.\u001b[39minstruction_id, response)\n",
      "File \u001b[0;32m~/beam-college/.venv/lib/python3.11/site-packages/apache_beam/runners/worker/sdk_worker.py:658\u001b[0m, in \u001b[0;36mSdkWorker.do_instruction\u001b[0;34m(self, request)\u001b[0m\n\u001b[1;32m    655\u001b[0m request_type \u001b[38;5;241m=\u001b[39m request\u001b[38;5;241m.\u001b[39mWhichOneof(\u001b[38;5;124m'\u001b[39m\u001b[38;5;124mrequest\u001b[39m\u001b[38;5;124m'\u001b[39m)\n\u001b[1;32m    656\u001b[0m \u001b[38;5;28;01mif\u001b[39;00m request_type:\n\u001b[1;32m    657\u001b[0m   \u001b[38;5;66;03m# E.g. if register is set, this will call self.register(request.register))\u001b[39;00m\n\u001b[0;32m--> 658\u001b[0m   \u001b[38;5;28;01mreturn\u001b[39;00m \u001b[38;5;28;43mgetattr\u001b[39;49m\u001b[43m(\u001b[49m\u001b[38;5;28;43mself\u001b[39;49m\u001b[43m,\u001b[49m\u001b[43m \u001b[49m\u001b[43mrequest_type\u001b[49m\u001b[43m)\u001b[49m\u001b[43m(\u001b[49m\n\u001b[1;32m    659\u001b[0m \u001b[43m      \u001b[49m\u001b[38;5;28;43mgetattr\u001b[39;49m\u001b[43m(\u001b[49m\u001b[43mrequest\u001b[49m\u001b[43m,\u001b[49m\u001b[43m \u001b[49m\u001b[43mrequest_type\u001b[49m\u001b[43m)\u001b[49m\u001b[43m,\u001b[49m\u001b[43m \u001b[49m\u001b[43mrequest\u001b[49m\u001b[38;5;241;43m.\u001b[39;49m\u001b[43minstruction_id\u001b[49m\u001b[43m)\u001b[49m\n\u001b[1;32m    660\u001b[0m \u001b[38;5;28;01melse\u001b[39;00m:\n\u001b[1;32m    661\u001b[0m   \u001b[38;5;28;01mraise\u001b[39;00m \u001b[38;5;167;01mNotImplementedError\u001b[39;00m\n",
      "File \u001b[0;32m~/beam-college/.venv/lib/python3.11/site-packages/apache_beam/runners/worker/sdk_worker.py:696\u001b[0m, in \u001b[0;36mSdkWorker.process_bundle\u001b[0;34m(self, request, instruction_id)\u001b[0m\n\u001b[1;32m    692\u001b[0m \u001b[38;5;28;01mwith\u001b[39;00m bundle_processor\u001b[38;5;241m.\u001b[39mstate_handler\u001b[38;5;241m.\u001b[39mprocess_instruction_id(\n\u001b[1;32m    693\u001b[0m     instruction_id, request\u001b[38;5;241m.\u001b[39mcache_tokens):\n\u001b[1;32m    694\u001b[0m   \u001b[38;5;28;01mwith\u001b[39;00m \u001b[38;5;28mself\u001b[39m\u001b[38;5;241m.\u001b[39mmaybe_profile(instruction_id):\n\u001b[1;32m    695\u001b[0m     delayed_applications, requests_finalization \u001b[38;5;241m=\u001b[39m (\n\u001b[0;32m--> 696\u001b[0m         \u001b[43mbundle_processor\u001b[49m\u001b[38;5;241;43m.\u001b[39;49m\u001b[43mprocess_bundle\u001b[49m\u001b[43m(\u001b[49m\u001b[43minstruction_id\u001b[49m\u001b[43m)\u001b[49m)\n\u001b[1;32m    697\u001b[0m     monitoring_infos \u001b[38;5;241m=\u001b[39m bundle_processor\u001b[38;5;241m.\u001b[39mmonitoring_infos()\n\u001b[1;32m    698\u001b[0m     response \u001b[38;5;241m=\u001b[39m beam_fn_api_pb2\u001b[38;5;241m.\u001b[39mInstructionResponse(\n\u001b[1;32m    699\u001b[0m         instruction_id\u001b[38;5;241m=\u001b[39minstruction_id,\n\u001b[1;32m    700\u001b[0m         process_bundle\u001b[38;5;241m=\u001b[39mbeam_fn_api_pb2\u001b[38;5;241m.\u001b[39mProcessBundleResponse(\n\u001b[0;32m   (...)\u001b[0m\n\u001b[1;32m    706\u001b[0m             },\n\u001b[1;32m    707\u001b[0m             requires_finalization\u001b[38;5;241m=\u001b[39mrequests_finalization))\n",
      "File \u001b[0;32m~/beam-college/.venv/lib/python3.11/site-packages/apache_beam/runners/worker/bundle_processor.py:1300\u001b[0m, in \u001b[0;36mBundleProcessor.process_bundle\u001b[0;34m(self, instruction_id)\u001b[0m\n\u001b[1;32m   1298\u001b[0m \u001b[38;5;28;01mwith\u001b[39;00m \u001b[38;5;28mself\u001b[39m\u001b[38;5;241m.\u001b[39msplitting_lock:\n\u001b[1;32m   1299\u001b[0m   \u001b[38;5;28mself\u001b[39m\u001b[38;5;241m.\u001b[39mcurrent_instruction_id \u001b[38;5;241m=\u001b[39m \u001b[38;5;28;01mNone\u001b[39;00m\n\u001b[0;32m-> 1300\u001b[0m \u001b[38;5;28;43mself\u001b[39;49m\u001b[38;5;241;43m.\u001b[39;49m\u001b[43mstate_sampler\u001b[49m\u001b[38;5;241;43m.\u001b[39;49m\u001b[43mstop_if_still_running\u001b[49m\u001b[43m(\u001b[49m\u001b[43m)\u001b[49m\n",
      "File \u001b[0;32m~/beam-college/.venv/lib/python3.11/site-packages/apache_beam/runners/worker/statesampler.py:116\u001b[0m, in \u001b[0;36mStateSampler.stop_if_still_running\u001b[0;34m(self)\u001b[0m\n\u001b[1;32m    114\u001b[0m \u001b[38;5;28;01mdef\u001b[39;00m\u001b[38;5;250m \u001b[39m\u001b[38;5;21mstop_if_still_running\u001b[39m(\u001b[38;5;28mself\u001b[39m) \u001b[38;5;241m-\u001b[39m\u001b[38;5;241m>\u001b[39m \u001b[38;5;28;01mNone\u001b[39;00m:\n\u001b[1;32m    115\u001b[0m   \u001b[38;5;28;01mif\u001b[39;00m \u001b[38;5;28mself\u001b[39m\u001b[38;5;241m.\u001b[39mstarted \u001b[38;5;129;01mand\u001b[39;00m \u001b[38;5;129;01mnot\u001b[39;00m \u001b[38;5;28mself\u001b[39m\u001b[38;5;241m.\u001b[39mfinished:\n\u001b[0;32m--> 116\u001b[0m     \u001b[38;5;28;43mself\u001b[39;49m\u001b[38;5;241;43m.\u001b[39;49m\u001b[43mstop\u001b[49m\u001b[43m(\u001b[49m\u001b[43m)\u001b[49m\n",
      "File \u001b[0;32m~/beam-college/.venv/lib/python3.11/site-packages/apache_beam/runners/worker/statesampler.py:112\u001b[0m, in \u001b[0;36mStateSampler.stop\u001b[0;34m(self)\u001b[0m\n\u001b[1;32m    110\u001b[0m \u001b[38;5;28;01mdef\u001b[39;00m\u001b[38;5;250m \u001b[39m\u001b[38;5;21mstop\u001b[39m(\u001b[38;5;28mself\u001b[39m) \u001b[38;5;241m-\u001b[39m\u001b[38;5;241m>\u001b[39m \u001b[38;5;28;01mNone\u001b[39;00m:\n\u001b[1;32m    111\u001b[0m   set_current_tracker(\u001b[38;5;28;01mNone\u001b[39;00m)\n\u001b[0;32m--> 112\u001b[0m   \u001b[38;5;28;43msuper\u001b[39;49m\u001b[43m(\u001b[49m\u001b[43m)\u001b[49m\u001b[38;5;241;43m.\u001b[39;49m\u001b[43mstop\u001b[49m\u001b[43m(\u001b[49m\u001b[43m)\u001b[49m\n",
      "File \u001b[0;32m~/beam-college/.venv/lib/python3.11/site-packages/apache_beam/runners/worker/statesampler_fast.pyx:153\u001b[0m, in \u001b[0;36mapache_beam.runners.worker.statesampler_fast.StateSampler.stop\u001b[0;34m()\u001b[0m\n",
      "File \u001b[0;32m/opt/homebrew/Cellar/python@3.11/3.11.12/Frameworks/Python.framework/Versions/3.11/lib/python3.11/threading.py:1119\u001b[0m, in \u001b[0;36mThread.join\u001b[0;34m(self, timeout)\u001b[0m\n\u001b[1;32m   1116\u001b[0m     \u001b[38;5;28;01mraise\u001b[39;00m \u001b[38;5;167;01mRuntimeError\u001b[39;00m(\u001b[38;5;124m\"\u001b[39m\u001b[38;5;124mcannot join current thread\u001b[39m\u001b[38;5;124m\"\u001b[39m)\n\u001b[1;32m   1118\u001b[0m \u001b[38;5;28;01mif\u001b[39;00m timeout \u001b[38;5;129;01mis\u001b[39;00m \u001b[38;5;28;01mNone\u001b[39;00m:\n\u001b[0;32m-> 1119\u001b[0m     \u001b[38;5;28;43mself\u001b[39;49m\u001b[38;5;241;43m.\u001b[39;49m\u001b[43m_wait_for_tstate_lock\u001b[49m\u001b[43m(\u001b[49m\u001b[43m)\u001b[49m\n\u001b[1;32m   1120\u001b[0m \u001b[38;5;28;01melse\u001b[39;00m:\n\u001b[1;32m   1121\u001b[0m     \u001b[38;5;66;03m# the behavior of a negative timeout isn't documented, but\u001b[39;00m\n\u001b[1;32m   1122\u001b[0m     \u001b[38;5;66;03m# historically .join(timeout=x) for x<0 has acted as if timeout=0\u001b[39;00m\n\u001b[1;32m   1123\u001b[0m     \u001b[38;5;28mself\u001b[39m\u001b[38;5;241m.\u001b[39m_wait_for_tstate_lock(timeout\u001b[38;5;241m=\u001b[39m\u001b[38;5;28mmax\u001b[39m(timeout, \u001b[38;5;241m0\u001b[39m))\n",
      "File \u001b[0;32m/opt/homebrew/Cellar/python@3.11/3.11.12/Frameworks/Python.framework/Versions/3.11/lib/python3.11/threading.py:1139\u001b[0m, in \u001b[0;36mThread._wait_for_tstate_lock\u001b[0;34m(self, block, timeout)\u001b[0m\n\u001b[1;32m   1136\u001b[0m     \u001b[38;5;28;01mreturn\u001b[39;00m\n\u001b[1;32m   1138\u001b[0m \u001b[38;5;28;01mtry\u001b[39;00m:\n\u001b[0;32m-> 1139\u001b[0m     \u001b[38;5;28;01mif\u001b[39;00m \u001b[43mlock\u001b[49m\u001b[38;5;241;43m.\u001b[39;49m\u001b[43macquire\u001b[49m\u001b[43m(\u001b[49m\u001b[43mblock\u001b[49m\u001b[43m,\u001b[49m\u001b[43m \u001b[49m\u001b[43mtimeout\u001b[49m\u001b[43m)\u001b[49m:\n\u001b[1;32m   1140\u001b[0m         lock\u001b[38;5;241m.\u001b[39mrelease()\n\u001b[1;32m   1141\u001b[0m         \u001b[38;5;28mself\u001b[39m\u001b[38;5;241m.\u001b[39m_stop()\n",
      "\u001b[0;31mKeyboardInterrupt\u001b[0m: "
     ]
    }
   ],
   "source": [
    "with beam.Pipeline(options=options) as p:\n",
    "    _ = (p\n",
    "         | SequenceToPeriodicStream(df_test_sample, delay=1, repeat=False)\n",
    "         | beam.Map(convert_data_to_key_value)\n",
    "         | beam.Map(lambda x: (x[0], beam.Row(**x[1])))\n",
    "         | AnomalyDetection(detector=detector)\n",
    "         | beam.Filter(lambda x: x[1].predictions[0].label) # Filter only anomalies\n",
    "         | beam.Map(lambda x: (x[0], x[1].example.as_dict()))\n",
    "         | beam.Map(lambda x: fix_access_type(x))\n",
    "         | beam.ml.inference.RunInference(model_handler=GeminiModelHandler())\n",
    "         | \"JsonifyInput\" >> beam.Map(lambda x: json.dumps(x, indent=2))\n",
    "         | beam.Map(lambda x: [\n",
    "             display(Markdown(x)), \n",
    "             display(Markdown(\"---\"))])\n",
    "         # | \"PublishAlerts\" >> beam.io.gcp.pubsub.WriteToPubSub(topic=os.environ[\"PUBSUB_TOPIC_ALERT\"])\n",
    "    )"
   ]
  },
  {
   "cell_type": "markdown",
   "id": "789aed9f-e45a-4445-99f8-61dc744f956d",
   "metadata": {},
   "source": [
    "# Streaming with pubsub and dataflow\n",
    "\n",
    "1. In this particular part, we will create a script that populates the user events into a pubsub topic. \n",
    "2. The dataflow job that consume the pubsub event and write the alert to a pubsub topic. \n",
    "3. Then we create a streamlit app that shows this alert to a security admin for taking appropriate actions."
   ]
  },
  {
   "cell_type": "code",
   "execution_count": 168,
   "id": "7f3cd7af-0022-4165-8cee-1426d621fb02",
   "metadata": {
    "tags": []
   },
   "outputs": [],
   "source": [
    "# timesfm_backend = \"cpu\"  # @param\n",
    "\n",
    "# model = timesfm.TimesFm(\n",
    "#       hparams=timesfm.TimesFmHparams(\n",
    "#           backend=timesfm_backend,\n",
    "#           per_core_batch_size=32,\n",
    "#           horizon_len=128,\n",
    "#           num_layers=50,\n",
    "#           # use_positional_embedding=False,\n",
    "#           context_len=2048,\n",
    "#       ),\n",
    "#       checkpoint=timesfm.TimesFmCheckpoint(\n",
    "#           huggingface_repo_id=\"google/timesfm-2.0-500m-jax\"),\n",
    "#   )\n",
    "\n",
    "# tfm = timesfm.TimesFm(\n",
    "#     hparams=timesfm.TimesFmHparams(\n",
    "#         context_len=320, # multiple of 32 (input_path_len) up to 512\n",
    "#         horizon_len=14, # anything but < context_len recommended\n",
    "#         input_patch_len=32,\n",
    "#         output_patch_len=128,\n",
    "#         num_layers=20,\n",
    "#         model_dims=1280,\n",
    "#         backend=\"cpu\", # cpu or gpu or tpu\n",
    "#     ),\n",
    "#     checkpoint=timesfm.TimesFmCheckpoint(\n",
    "#           huggingface_repo_id=\"google/timesfm-1.0-200m-pytorch\"\n",
    "#     )\n",
    "# )\n",
    "\n",
    "# forecast_input = [\n",
    "#     np.sin(np.linspace(0, 20, 100)),\n",
    "#     np.sin(np.linspace(0, 20, 200)),\n",
    "#     np.sin(np.linspace(0, 20, 400)),\n",
    "# ]\n",
    "# frequency_input = [0, 1, 2]\n",
    "\n",
    "# point_forecast, experimental_quantile_forecast = tfm.forecast(\n",
    "#     forecast_input,\n",
    "#     freq=frequency_input,\n",
    "# )\n"
   ]
  },
  {
   "cell_type": "code",
   "execution_count": null,
   "id": "973b6a62-331c-48c5-9674-684ff8ffd475",
   "metadata": {},
   "outputs": [],
   "source": []
  }
 ],
 "metadata": {
  "kernelspec": {
   "display_name": "Python 3 (ipykernel)",
   "language": "python",
   "name": "python3"
  },
  "language_info": {
   "codemirror_mode": {
    "name": "ipython",
    "version": 3
   },
   "file_extension": ".py",
   "mimetype": "text/x-python",
   "name": "python",
   "nbconvert_exporter": "python",
   "pygments_lexer": "ipython3",
   "version": "3.11.12"
  }
 },
 "nbformat": 4,
 "nbformat_minor": 5
}
